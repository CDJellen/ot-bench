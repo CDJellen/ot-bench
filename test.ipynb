{
 "cells": [
  {
   "cell_type": "code",
   "execution_count": 1,
   "metadata": {},
   "outputs": [],
   "source": [
    "import os\n",
    "\n",
    "import numpy as np\n",
    "import pandas as pd\n",
    "import xarray as xr\n",
    "import lightgbm as lgb\n",
    "\n",
    "from otb.config import ROOT_DIR, DATASETS_FP, TASKS_FP, CACHE_DIR\n",
    "from otb import CACHE\n",
    "from otb.tasks import TaskFactory\n",
    "from otb.dataset import Dataset"
   ]
  },
  {
   "cell_type": "code",
   "execution_count": 2,
   "metadata": {},
   "outputs": [],
   "source": [
    "%matplotlib inline"
   ]
  },
  {
   "cell_type": "code",
   "execution_count": 3,
   "metadata": {},
   "outputs": [
    {
     "data": {
      "text/plain": [
       "'/home/cjellen/sources/github/ot-bench'"
      ]
     },
     "execution_count": 3,
     "metadata": {},
     "output_type": "execute_result"
    }
   ],
   "source": [
    "os.getcwd()"
   ]
  },
  {
   "cell_type": "markdown",
   "metadata": {},
   "source": [
    "### setup (might not be needed?)"
   ]
  },
  {
   "cell_type": "code",
   "execution_count": 4,
   "metadata": {},
   "outputs": [
    {
     "data": {
      "text/plain": [
       "{}"
      ]
     },
     "execution_count": 4,
     "metadata": {},
     "output_type": "execute_result"
    }
   ],
   "source": [
    "CACHE._cache"
   ]
  },
  {
   "cell_type": "markdown",
   "metadata": {},
   "source": [
    "We might want to move from a system in which tasks are first-class to one in which experiments are first class?"
   ]
  },
  {
   "cell_type": "code",
   "execution_count": null,
   "metadata": {},
   "outputs": [],
   "source": []
  },
  {
   "cell_type": "markdown",
   "metadata": {},
   "source": [
    "### load the tasks"
   ]
  },
  {
   "cell_type": "code",
   "execution_count": 5,
   "metadata": {},
   "outputs": [],
   "source": [
    "task_factory = TaskFactory()"
   ]
  },
  {
   "cell_type": "markdown",
   "metadata": {},
   "source": [
    "List all supported tasks"
   ]
  },
  {
   "cell_type": "code",
   "execution_count": 6,
   "metadata": {},
   "outputs": [
    {
     "data": {
      "text/plain": [
       "{'regression.mlo_cn2.dropna.Cn2_15m', 'regression.mlo_cn2.full.Cn2_15m'}"
      ]
     },
     "execution_count": 6,
     "metadata": {},
     "output_type": "execute_result"
    }
   ],
   "source": [
    "task_factory.list_tasks()"
   ]
  },
  {
   "cell_type": "markdown",
   "metadata": {},
   "source": [
    "Get details for the `mlo_cn2` regression task, with missing values dropped"
   ]
  },
  {
   "cell_type": "code",
   "execution_count": 7,
   "metadata": {},
   "outputs": [],
   "source": [
    "task = task_factory.get_task(\"regression.mlo_cn2.dropna.Cn2_15m\")"
   ]
  },
  {
   "cell_type": "code",
   "execution_count": 8,
   "metadata": {},
   "outputs": [
    {
     "data": {
      "text/plain": [
       "otb.tasks.tasks.RegressionTask"
      ]
     },
     "execution_count": 8,
     "metadata": {},
     "output_type": "execute_result"
    }
   ],
   "source": [
    "type(task)"
   ]
  },
  {
   "cell_type": "code",
   "execution_count": 9,
   "metadata": {},
   "outputs": [
    {
     "data": {
      "text/plain": [
       "{'description': 'Regression task for MLO Cn2 data, where the last 12 days are set aside for evaluation',\n",
       " 'description_long': 'This dataset evaluates regression approaches for predicting the extent of optical turbulence, as measured by Cn2 at an elevation of 15m. Optical turbulence on data collected at the Mauna Loa Solar Observatory between 27 July 2006 and 8 August 2006, inclusive, are used to evaluate prediction accuracy under the root-mean square error metric.',\n",
       " 'ds_name': 'mlo_cn2',\n",
       " 'train_idx': ['0:8367'],\n",
       " 'test_idx': ['8367:10367'],\n",
       " 'val_idx': ['10367:13943'],\n",
       " 'dropna': True,\n",
       " 'log_transform': True,\n",
       " 'eval_metrics': ['root_mean_square_error',\n",
       "  'r2_score',\n",
       "  'mean_absolute_error',\n",
       "  'mean_absolute_percentage_error'],\n",
       " 'target': 'Cn2_15m',\n",
       " 'remove': ['base_time', 'Cn2_6m', 'Cn2_15m', 'Cn2_25m']}"
      ]
     },
     "execution_count": 9,
     "metadata": {},
     "output_type": "execute_result"
    }
   ],
   "source": [
    "task.get_all_info()"
   ]
  },
  {
   "cell_type": "markdown",
   "metadata": {},
   "source": [
    "Get the training data"
   ]
  },
  {
   "cell_type": "code",
   "execution_count": 10,
   "metadata": {},
   "outputs": [],
   "source": [
    "X_train, y_train = task.get_train_data(data_type=\"pd\")"
   ]
  },
  {
   "cell_type": "markdown",
   "metadata": {},
   "source": [
    "Train your model"
   ]
  },
  {
   "cell_type": "code",
   "execution_count": 11,
   "metadata": {},
   "outputs": [],
   "source": [
    "model = lgb.LGBMRegressor()"
   ]
  },
  {
   "cell_type": "code",
   "execution_count": 12,
   "metadata": {},
   "outputs": [
    {
     "data": {
      "text/html": [
       "<style>#sk-container-id-1 {color: black;}#sk-container-id-1 pre{padding: 0;}#sk-container-id-1 div.sk-toggleable {background-color: white;}#sk-container-id-1 label.sk-toggleable__label {cursor: pointer;display: block;width: 100%;margin-bottom: 0;padding: 0.3em;box-sizing: border-box;text-align: center;}#sk-container-id-1 label.sk-toggleable__label-arrow:before {content: \"▸\";float: left;margin-right: 0.25em;color: #696969;}#sk-container-id-1 label.sk-toggleable__label-arrow:hover:before {color: black;}#sk-container-id-1 div.sk-estimator:hover label.sk-toggleable__label-arrow:before {color: black;}#sk-container-id-1 div.sk-toggleable__content {max-height: 0;max-width: 0;overflow: hidden;text-align: left;background-color: #f0f8ff;}#sk-container-id-1 div.sk-toggleable__content pre {margin: 0.2em;color: black;border-radius: 0.25em;background-color: #f0f8ff;}#sk-container-id-1 input.sk-toggleable__control:checked~div.sk-toggleable__content {max-height: 200px;max-width: 100%;overflow: auto;}#sk-container-id-1 input.sk-toggleable__control:checked~label.sk-toggleable__label-arrow:before {content: \"▾\";}#sk-container-id-1 div.sk-estimator input.sk-toggleable__control:checked~label.sk-toggleable__label {background-color: #d4ebff;}#sk-container-id-1 div.sk-label input.sk-toggleable__control:checked~label.sk-toggleable__label {background-color: #d4ebff;}#sk-container-id-1 input.sk-hidden--visually {border: 0;clip: rect(1px 1px 1px 1px);clip: rect(1px, 1px, 1px, 1px);height: 1px;margin: -1px;overflow: hidden;padding: 0;position: absolute;width: 1px;}#sk-container-id-1 div.sk-estimator {font-family: monospace;background-color: #f0f8ff;border: 1px dotted black;border-radius: 0.25em;box-sizing: border-box;margin-bottom: 0.5em;}#sk-container-id-1 div.sk-estimator:hover {background-color: #d4ebff;}#sk-container-id-1 div.sk-parallel-item::after {content: \"\";width: 100%;border-bottom: 1px solid gray;flex-grow: 1;}#sk-container-id-1 div.sk-label:hover label.sk-toggleable__label {background-color: #d4ebff;}#sk-container-id-1 div.sk-serial::before {content: \"\";position: absolute;border-left: 1px solid gray;box-sizing: border-box;top: 0;bottom: 0;left: 50%;z-index: 0;}#sk-container-id-1 div.sk-serial {display: flex;flex-direction: column;align-items: center;background-color: white;padding-right: 0.2em;padding-left: 0.2em;position: relative;}#sk-container-id-1 div.sk-item {position: relative;z-index: 1;}#sk-container-id-1 div.sk-parallel {display: flex;align-items: stretch;justify-content: center;background-color: white;position: relative;}#sk-container-id-1 div.sk-item::before, #sk-container-id-1 div.sk-parallel-item::before {content: \"\";position: absolute;border-left: 1px solid gray;box-sizing: border-box;top: 0;bottom: 0;left: 50%;z-index: -1;}#sk-container-id-1 div.sk-parallel-item {display: flex;flex-direction: column;z-index: 1;position: relative;background-color: white;}#sk-container-id-1 div.sk-parallel-item:first-child::after {align-self: flex-end;width: 50%;}#sk-container-id-1 div.sk-parallel-item:last-child::after {align-self: flex-start;width: 50%;}#sk-container-id-1 div.sk-parallel-item:only-child::after {width: 0;}#sk-container-id-1 div.sk-dashed-wrapped {border: 1px dashed gray;margin: 0 0.4em 0.5em 0.4em;box-sizing: border-box;padding-bottom: 0.4em;background-color: white;}#sk-container-id-1 div.sk-label label {font-family: monospace;font-weight: bold;display: inline-block;line-height: 1.2em;}#sk-container-id-1 div.sk-label-container {text-align: center;}#sk-container-id-1 div.sk-container {/* jupyter's `normalize.less` sets `[hidden] { display: none; }` but bootstrap.min.css set `[hidden] { display: none !important; }` so we also need the `!important` here to be able to override the default hidden behavior on the sphinx rendered scikit-learn.org. See: https://github.com/scikit-learn/scikit-learn/issues/21755 */display: inline-block !important;position: relative;}#sk-container-id-1 div.sk-text-repr-fallback {display: none;}</style><div id=\"sk-container-id-1\" class=\"sk-top-container\"><div class=\"sk-text-repr-fallback\"><pre>LGBMRegressor()</pre><b>In a Jupyter environment, please rerun this cell to show the HTML representation or trust the notebook. <br />On GitHub, the HTML representation is unable to render, please try loading this page with nbviewer.org.</b></div><div class=\"sk-container\" hidden><div class=\"sk-item\"><div class=\"sk-estimator sk-toggleable\"><input class=\"sk-toggleable__control sk-hidden--visually\" id=\"sk-estimator-id-1\" type=\"checkbox\" checked><label for=\"sk-estimator-id-1\" class=\"sk-toggleable__label sk-toggleable__label-arrow\">LGBMRegressor</label><div class=\"sk-toggleable__content\"><pre>LGBMRegressor()</pre></div></div></div></div></div>"
      ],
      "text/plain": [
       "LGBMRegressor()"
      ]
     },
     "execution_count": 12,
     "metadata": {},
     "output_type": "execute_result"
    }
   ],
   "source": [
    "model.fit(X_train, y_train)"
   ]
  },
  {
   "cell_type": "markdown",
   "metadata": {},
   "source": [
    "Evaluate your model"
   ]
  },
  {
   "cell_type": "code",
   "execution_count": 13,
   "metadata": {},
   "outputs": [
    {
     "data": {
      "text/plain": [
       "{'root_mean_square_error': 0.21550584034473647,\n",
       " 'r2_score': 0.8936031659084048,\n",
       " 'mean_absolute_error': 0.15718607854371786,\n",
       " 'mean_absolute_percentage_error': 0.011320035736497307}"
      ]
     },
     "execution_count": 13,
     "metadata": {},
     "output_type": "execute_result"
    }
   ],
   "source": [
    "task.evaluate_model(predict_call=model.predict, x_transforms=None, x_transform_kwargs=None)"
   ]
  },
  {
   "cell_type": "markdown",
   "metadata": {},
   "source": [
    "Compute metrics on the evaluation set"
   ]
  },
  {
   "cell_type": "code",
   "execution_count": null,
   "metadata": {},
   "outputs": [],
   "source": []
  },
  {
   "cell_type": "markdown",
   "metadata": {},
   "source": [
    "Compare against benchmarks"
   ]
  },
  {
   "cell_type": "code",
   "execution_count": null,
   "metadata": {},
   "outputs": [],
   "source": []
  },
  {
   "cell_type": "markdown",
   "metadata": {},
   "source": [
    "### deprecated"
   ]
  },
  {
   "cell_type": "code",
   "execution_count": 14,
   "metadata": {},
   "outputs": [],
   "source": [
    "ds = xr.load_dataset(\"otb/data/mlo_cn2/mlo_cn2.nc\")"
   ]
  },
  {
   "cell_type": "code",
   "execution_count": 15,
   "metadata": {},
   "outputs": [
    {
     "data": {
      "text/html": [
       "<div><svg style=\"position: absolute; width: 0; height: 0; overflow: hidden\">\n",
       "<defs>\n",
       "<symbol id=\"icon-database\" viewBox=\"0 0 32 32\">\n",
       "<path d=\"M16 0c-8.837 0-16 2.239-16 5v4c0 2.761 7.163 5 16 5s16-2.239 16-5v-4c0-2.761-7.163-5-16-5z\"></path>\n",
       "<path d=\"M16 17c-8.837 0-16-2.239-16-5v6c0 2.761 7.163 5 16 5s16-2.239 16-5v-6c0 2.761-7.163 5-16 5z\"></path>\n",
       "<path d=\"M16 26c-8.837 0-16-2.239-16-5v6c0 2.761 7.163 5 16 5s16-2.239 16-5v-6c0 2.761-7.163 5-16 5z\"></path>\n",
       "</symbol>\n",
       "<symbol id=\"icon-file-text2\" viewBox=\"0 0 32 32\">\n",
       "<path d=\"M28.681 7.159c-0.694-0.947-1.662-2.053-2.724-3.116s-2.169-2.030-3.116-2.724c-1.612-1.182-2.393-1.319-2.841-1.319h-15.5c-1.378 0-2.5 1.121-2.5 2.5v27c0 1.378 1.122 2.5 2.5 2.5h23c1.378 0 2.5-1.122 2.5-2.5v-19.5c0-0.448-0.137-1.23-1.319-2.841zM24.543 5.457c0.959 0.959 1.712 1.825 2.268 2.543h-4.811v-4.811c0.718 0.556 1.584 1.309 2.543 2.268zM28 29.5c0 0.271-0.229 0.5-0.5 0.5h-23c-0.271 0-0.5-0.229-0.5-0.5v-27c0-0.271 0.229-0.5 0.5-0.5 0 0 15.499-0 15.5 0v7c0 0.552 0.448 1 1 1h7v19.5z\"></path>\n",
       "<path d=\"M23 26h-14c-0.552 0-1-0.448-1-1s0.448-1 1-1h14c0.552 0 1 0.448 1 1s-0.448 1-1 1z\"></path>\n",
       "<path d=\"M23 22h-14c-0.552 0-1-0.448-1-1s0.448-1 1-1h14c0.552 0 1 0.448 1 1s-0.448 1-1 1z\"></path>\n",
       "<path d=\"M23 18h-14c-0.552 0-1-0.448-1-1s0.448-1 1-1h14c0.552 0 1 0.448 1 1s-0.448 1-1 1z\"></path>\n",
       "</symbol>\n",
       "</defs>\n",
       "</svg>\n",
       "<style>/* CSS stylesheet for displaying xarray objects in jupyterlab.\n",
       " *\n",
       " */\n",
       "\n",
       ":root {\n",
       "  --xr-font-color0: var(--jp-content-font-color0, rgba(0, 0, 0, 1));\n",
       "  --xr-font-color2: var(--jp-content-font-color2, rgba(0, 0, 0, 0.54));\n",
       "  --xr-font-color3: var(--jp-content-font-color3, rgba(0, 0, 0, 0.38));\n",
       "  --xr-border-color: var(--jp-border-color2, #e0e0e0);\n",
       "  --xr-disabled-color: var(--jp-layout-color3, #bdbdbd);\n",
       "  --xr-background-color: var(--jp-layout-color0, white);\n",
       "  --xr-background-color-row-even: var(--jp-layout-color1, white);\n",
       "  --xr-background-color-row-odd: var(--jp-layout-color2, #eeeeee);\n",
       "}\n",
       "\n",
       "html[theme=dark],\n",
       "body[data-theme=dark],\n",
       "body.vscode-dark {\n",
       "  --xr-font-color0: rgba(255, 255, 255, 1);\n",
       "  --xr-font-color2: rgba(255, 255, 255, 0.54);\n",
       "  --xr-font-color3: rgba(255, 255, 255, 0.38);\n",
       "  --xr-border-color: #1F1F1F;\n",
       "  --xr-disabled-color: #515151;\n",
       "  --xr-background-color: #111111;\n",
       "  --xr-background-color-row-even: #111111;\n",
       "  --xr-background-color-row-odd: #313131;\n",
       "}\n",
       "\n",
       ".xr-wrap {\n",
       "  display: block !important;\n",
       "  min-width: 300px;\n",
       "  max-width: 700px;\n",
       "}\n",
       "\n",
       ".xr-text-repr-fallback {\n",
       "  /* fallback to plain text repr when CSS is not injected (untrusted notebook) */\n",
       "  display: none;\n",
       "}\n",
       "\n",
       ".xr-header {\n",
       "  padding-top: 6px;\n",
       "  padding-bottom: 6px;\n",
       "  margin-bottom: 4px;\n",
       "  border-bottom: solid 1px var(--xr-border-color);\n",
       "}\n",
       "\n",
       ".xr-header > div,\n",
       ".xr-header > ul {\n",
       "  display: inline;\n",
       "  margin-top: 0;\n",
       "  margin-bottom: 0;\n",
       "}\n",
       "\n",
       ".xr-obj-type,\n",
       ".xr-array-name {\n",
       "  margin-left: 2px;\n",
       "  margin-right: 10px;\n",
       "}\n",
       "\n",
       ".xr-obj-type {\n",
       "  color: var(--xr-font-color2);\n",
       "}\n",
       "\n",
       ".xr-sections {\n",
       "  padding-left: 0 !important;\n",
       "  display: grid;\n",
       "  grid-template-columns: 150px auto auto 1fr 20px 20px;\n",
       "}\n",
       "\n",
       ".xr-section-item {\n",
       "  display: contents;\n",
       "}\n",
       "\n",
       ".xr-section-item input {\n",
       "  display: none;\n",
       "}\n",
       "\n",
       ".xr-section-item input + label {\n",
       "  color: var(--xr-disabled-color);\n",
       "}\n",
       "\n",
       ".xr-section-item input:enabled + label {\n",
       "  cursor: pointer;\n",
       "  color: var(--xr-font-color2);\n",
       "}\n",
       "\n",
       ".xr-section-item input:enabled + label:hover {\n",
       "  color: var(--xr-font-color0);\n",
       "}\n",
       "\n",
       ".xr-section-summary {\n",
       "  grid-column: 1;\n",
       "  color: var(--xr-font-color2);\n",
       "  font-weight: 500;\n",
       "}\n",
       "\n",
       ".xr-section-summary > span {\n",
       "  display: inline-block;\n",
       "  padding-left: 0.5em;\n",
       "}\n",
       "\n",
       ".xr-section-summary-in:disabled + label {\n",
       "  color: var(--xr-font-color2);\n",
       "}\n",
       "\n",
       ".xr-section-summary-in + label:before {\n",
       "  display: inline-block;\n",
       "  content: '►';\n",
       "  font-size: 11px;\n",
       "  width: 15px;\n",
       "  text-align: center;\n",
       "}\n",
       "\n",
       ".xr-section-summary-in:disabled + label:before {\n",
       "  color: var(--xr-disabled-color);\n",
       "}\n",
       "\n",
       ".xr-section-summary-in:checked + label:before {\n",
       "  content: '▼';\n",
       "}\n",
       "\n",
       ".xr-section-summary-in:checked + label > span {\n",
       "  display: none;\n",
       "}\n",
       "\n",
       ".xr-section-summary,\n",
       ".xr-section-inline-details {\n",
       "  padding-top: 4px;\n",
       "  padding-bottom: 4px;\n",
       "}\n",
       "\n",
       ".xr-section-inline-details {\n",
       "  grid-column: 2 / -1;\n",
       "}\n",
       "\n",
       ".xr-section-details {\n",
       "  display: none;\n",
       "  grid-column: 1 / -1;\n",
       "  margin-bottom: 5px;\n",
       "}\n",
       "\n",
       ".xr-section-summary-in:checked ~ .xr-section-details {\n",
       "  display: contents;\n",
       "}\n",
       "\n",
       ".xr-array-wrap {\n",
       "  grid-column: 1 / -1;\n",
       "  display: grid;\n",
       "  grid-template-columns: 20px auto;\n",
       "}\n",
       "\n",
       ".xr-array-wrap > label {\n",
       "  grid-column: 1;\n",
       "  vertical-align: top;\n",
       "}\n",
       "\n",
       ".xr-preview {\n",
       "  color: var(--xr-font-color3);\n",
       "}\n",
       "\n",
       ".xr-array-preview,\n",
       ".xr-array-data {\n",
       "  padding: 0 5px !important;\n",
       "  grid-column: 2;\n",
       "}\n",
       "\n",
       ".xr-array-data,\n",
       ".xr-array-in:checked ~ .xr-array-preview {\n",
       "  display: none;\n",
       "}\n",
       "\n",
       ".xr-array-in:checked ~ .xr-array-data,\n",
       ".xr-array-preview {\n",
       "  display: inline-block;\n",
       "}\n",
       "\n",
       ".xr-dim-list {\n",
       "  display: inline-block !important;\n",
       "  list-style: none;\n",
       "  padding: 0 !important;\n",
       "  margin: 0;\n",
       "}\n",
       "\n",
       ".xr-dim-list li {\n",
       "  display: inline-block;\n",
       "  padding: 0;\n",
       "  margin: 0;\n",
       "}\n",
       "\n",
       ".xr-dim-list:before {\n",
       "  content: '(';\n",
       "}\n",
       "\n",
       ".xr-dim-list:after {\n",
       "  content: ')';\n",
       "}\n",
       "\n",
       ".xr-dim-list li:not(:last-child):after {\n",
       "  content: ',';\n",
       "  padding-right: 5px;\n",
       "}\n",
       "\n",
       ".xr-has-index {\n",
       "  font-weight: bold;\n",
       "}\n",
       "\n",
       ".xr-var-list,\n",
       ".xr-var-item {\n",
       "  display: contents;\n",
       "}\n",
       "\n",
       ".xr-var-item > div,\n",
       ".xr-var-item label,\n",
       ".xr-var-item > .xr-var-name span {\n",
       "  background-color: var(--xr-background-color-row-even);\n",
       "  margin-bottom: 0;\n",
       "}\n",
       "\n",
       ".xr-var-item > .xr-var-name:hover span {\n",
       "  padding-right: 5px;\n",
       "}\n",
       "\n",
       ".xr-var-list > li:nth-child(odd) > div,\n",
       ".xr-var-list > li:nth-child(odd) > label,\n",
       ".xr-var-list > li:nth-child(odd) > .xr-var-name span {\n",
       "  background-color: var(--xr-background-color-row-odd);\n",
       "}\n",
       "\n",
       ".xr-var-name {\n",
       "  grid-column: 1;\n",
       "}\n",
       "\n",
       ".xr-var-dims {\n",
       "  grid-column: 2;\n",
       "}\n",
       "\n",
       ".xr-var-dtype {\n",
       "  grid-column: 3;\n",
       "  text-align: right;\n",
       "  color: var(--xr-font-color2);\n",
       "}\n",
       "\n",
       ".xr-var-preview {\n",
       "  grid-column: 4;\n",
       "}\n",
       "\n",
       ".xr-index-preview {\n",
       "  grid-column: 2 / 5;\n",
       "  color: var(--xr-font-color2);\n",
       "}\n",
       "\n",
       ".xr-var-name,\n",
       ".xr-var-dims,\n",
       ".xr-var-dtype,\n",
       ".xr-preview,\n",
       ".xr-attrs dt {\n",
       "  white-space: nowrap;\n",
       "  overflow: hidden;\n",
       "  text-overflow: ellipsis;\n",
       "  padding-right: 10px;\n",
       "}\n",
       "\n",
       ".xr-var-name:hover,\n",
       ".xr-var-dims:hover,\n",
       ".xr-var-dtype:hover,\n",
       ".xr-attrs dt:hover {\n",
       "  overflow: visible;\n",
       "  width: auto;\n",
       "  z-index: 1;\n",
       "}\n",
       "\n",
       ".xr-var-attrs,\n",
       ".xr-var-data,\n",
       ".xr-index-data {\n",
       "  display: none;\n",
       "  background-color: var(--xr-background-color) !important;\n",
       "  padding-bottom: 5px !important;\n",
       "}\n",
       "\n",
       ".xr-var-attrs-in:checked ~ .xr-var-attrs,\n",
       ".xr-var-data-in:checked ~ .xr-var-data,\n",
       ".xr-index-data-in:checked ~ .xr-index-data {\n",
       "  display: block;\n",
       "}\n",
       "\n",
       ".xr-var-data > table {\n",
       "  float: right;\n",
       "}\n",
       "\n",
       ".xr-var-name span,\n",
       ".xr-var-data,\n",
       ".xr-index-name div,\n",
       ".xr-index-data,\n",
       ".xr-attrs {\n",
       "  padding-left: 25px !important;\n",
       "}\n",
       "\n",
       ".xr-attrs,\n",
       ".xr-var-attrs,\n",
       ".xr-var-data,\n",
       ".xr-index-data {\n",
       "  grid-column: 1 / -1;\n",
       "}\n",
       "\n",
       "dl.xr-attrs {\n",
       "  padding: 0;\n",
       "  margin: 0;\n",
       "  display: grid;\n",
       "  grid-template-columns: 125px auto;\n",
       "}\n",
       "\n",
       ".xr-attrs dt,\n",
       ".xr-attrs dd {\n",
       "  padding: 0;\n",
       "  margin: 0;\n",
       "  float: left;\n",
       "  padding-right: 10px;\n",
       "  width: auto;\n",
       "}\n",
       "\n",
       ".xr-attrs dt {\n",
       "  font-weight: normal;\n",
       "  grid-column: 1;\n",
       "}\n",
       "\n",
       ".xr-attrs dt:hover span {\n",
       "  display: inline-block;\n",
       "  background: var(--xr-background-color);\n",
       "  padding-right: 10px;\n",
       "}\n",
       "\n",
       ".xr-attrs dd {\n",
       "  grid-column: 2;\n",
       "  white-space: pre-wrap;\n",
       "  word-break: break-all;\n",
       "}\n",
       "\n",
       ".xr-icon-database,\n",
       ".xr-icon-file-text2,\n",
       ".xr-no-icon {\n",
       "  display: inline-block;\n",
       "  vertical-align: middle;\n",
       "  width: 1em;\n",
       "  height: 1.5em !important;\n",
       "  stroke-width: 0;\n",
       "  stroke: currentColor;\n",
       "  fill: currentColor;\n",
       "}\n",
       "</style><pre class='xr-text-repr-fallback'>&lt;xarray.Dataset&gt;\n",
       "Dimensions:        (time: 14038)\n",
       "Coordinates:\n",
       "  * time           (time) datetime64[ns] 2006-06-09T00:02:30 ... 2006-08-08T1...\n",
       "Data variables: (12/91)\n",
       "    base_time      datetime64[ns] 2006-06-09\n",
       "    uflag_6m       (time) float32 nan nan nan nan nan ... 0.0 0.0 0.0 0.0 0.0\n",
       "    vflag_6m       (time) float32 nan nan nan nan nan ... 0.0 0.0 0.0 0.0 0.0\n",
       "    wflag_6m       (time) float32 nan nan nan nan nan ... 0.0 0.0 0.0 0.0 0.0\n",
       "    tcflag_6m      (time) float32 nan nan nan nan nan ... 0.0 0.0 0.0 0.0 0.0\n",
       "    diag_6m        (time) float32 nan nan nan nan ... 0.0 0.0004444 0.0\n",
       "    ...             ...\n",
       "    T_2m           (time) float32 nan nan nan nan ... 10.09 10.18 10.27 10.36\n",
       "    RH_2m          (time) float32 nan nan nan nan ... 39.65 39.97 40.29 40.61\n",
       "    Tdew_2m        (time) float32 nan nan nan nan ... -2.771 -2.579 -2.388\n",
       "    Cn2_6m         (time) float32 nan nan nan nan nan ... nan nan nan nan nan\n",
       "    Cn2_15m        (time) float32 nan nan nan nan nan ... nan nan nan nan nan\n",
       "    Cn2_25m        (time) float32 nan nan nan nan nan ... nan nan nan nan nan\n",
       "Attributes:\n",
       "    history:                   Sun Dec 10 08:04:04 2006: ncrename -v RH,RH_2m...\n",
       "    nco_openmp_thread_number:  1</pre><div class='xr-wrap' style='display:none'><div class='xr-header'><div class='xr-obj-type'>xarray.Dataset</div></div><ul class='xr-sections'><li class='xr-section-item'><input id='section-bc883da8-3133-46aa-bebf-faf2aca3a655' class='xr-section-summary-in' type='checkbox' disabled ><label for='section-bc883da8-3133-46aa-bebf-faf2aca3a655' class='xr-section-summary'  title='Expand/collapse section'>Dimensions:</label><div class='xr-section-inline-details'><ul class='xr-dim-list'><li><span class='xr-has-index'>time</span>: 14038</li></ul></div><div class='xr-section-details'></div></li><li class='xr-section-item'><input id='section-2bcbb27d-46b2-4e9e-a293-f6c097bd3486' class='xr-section-summary-in' type='checkbox'  checked><label for='section-2bcbb27d-46b2-4e9e-a293-f6c097bd3486' class='xr-section-summary' >Coordinates: <span>(1)</span></label><div class='xr-section-inline-details'></div><div class='xr-section-details'><ul class='xr-var-list'><li class='xr-var-item'><div class='xr-var-name'><span class='xr-has-index'>time</span></div><div class='xr-var-dims'>(time)</div><div class='xr-var-dtype'>datetime64[ns]</div><div class='xr-var-preview xr-preview'>2006-06-09T00:02:30 ... 2006-08-...</div><input id='attrs-2ca0b843-b31c-4071-933d-faa1890f0c5f' class='xr-var-attrs-in' type='checkbox' disabled><label for='attrs-2ca0b843-b31c-4071-933d-faa1890f0c5f' title='Show/Hide attributes'><svg class='icon xr-icon-file-text2'><use xlink:href='#icon-file-text2'></use></svg></label><input id='data-77bfa3bd-dc23-429f-8f26-4700f1ea2fa1' class='xr-var-data-in' type='checkbox'><label for='data-77bfa3bd-dc23-429f-8f26-4700f1ea2fa1' title='Show/Hide data repr'><svg class='icon xr-icon-database'><use xlink:href='#icon-database'></use></svg></label><div class='xr-var-attrs'><dl class='xr-attrs'></dl></div><div class='xr-var-data'><pre>array([&#x27;2006-06-09T00:02:30.000000000&#x27;, &#x27;2006-06-09T00:07:30.000000000&#x27;,\n",
       "       &#x27;2006-06-09T00:12:30.000000000&#x27;, ..., &#x27;2006-08-08T17:42:30.000000000&#x27;,\n",
       "       &#x27;2006-08-08T17:47:30.000000000&#x27;, &#x27;2006-08-08T17:52:30.000000000&#x27;],\n",
       "      dtype=&#x27;datetime64[ns]&#x27;)</pre></div></li></ul></div></li><li class='xr-section-item'><input id='section-fa45e0cf-95be-4f3f-a35a-077cf238cee9' class='xr-section-summary-in' type='checkbox'  ><label for='section-fa45e0cf-95be-4f3f-a35a-077cf238cee9' class='xr-section-summary' >Data variables: <span>(91)</span></label><div class='xr-section-inline-details'></div><div class='xr-section-details'><ul class='xr-var-list'><li class='xr-var-item'><div class='xr-var-name'><span>base_time</span></div><div class='xr-var-dims'>()</div><div class='xr-var-dtype'>datetime64[ns]</div><div class='xr-var-preview xr-preview'>2006-06-09</div><input id='attrs-f946b93d-0c6e-48a8-afcc-dd46cecf76f9' class='xr-var-attrs-in' type='checkbox' disabled><label for='attrs-f946b93d-0c6e-48a8-afcc-dd46cecf76f9' title='Show/Hide attributes'><svg class='icon xr-icon-file-text2'><use xlink:href='#icon-file-text2'></use></svg></label><input id='data-8d2320db-46ab-473e-a78a-4e3b3bbfa592' class='xr-var-data-in' type='checkbox'><label for='data-8d2320db-46ab-473e-a78a-4e3b3bbfa592' title='Show/Hide data repr'><svg class='icon xr-icon-database'><use xlink:href='#icon-database'></use></svg></label><div class='xr-var-attrs'><dl class='xr-attrs'></dl></div><div class='xr-var-data'><pre>array(&#x27;2006-06-09T00:00:00.000000000&#x27;, dtype=&#x27;datetime64[ns]&#x27;)</pre></div></li><li class='xr-var-item'><div class='xr-var-name'><span>uflag_6m</span></div><div class='xr-var-dims'>(time)</div><div class='xr-var-dtype'>float32</div><div class='xr-var-preview xr-preview'>nan nan nan nan ... 0.0 0.0 0.0 0.0</div><input id='attrs-7da3dd75-c7c5-4040-ae86-7bf45293369c' class='xr-var-attrs-in' type='checkbox' ><label for='attrs-7da3dd75-c7c5-4040-ae86-7bf45293369c' title='Show/Hide attributes'><svg class='icon xr-icon-file-text2'><use xlink:href='#icon-file-text2'></use></svg></label><input id='data-172ae07a-9486-4e3b-8273-b25e002219f7' class='xr-var-data-in' type='checkbox'><label for='data-172ae07a-9486-4e3b-8273-b25e002219f7' title='Show/Hide data repr'><svg class='icon xr-icon-database'><use xlink:href='#icon-database'></use></svg></label><div class='xr-var-attrs'><dl class='xr-attrs'><dt><span>short_name :</span></dt><dd>uflag.6m</dd></dl></div><div class='xr-var-data'><pre>array([nan, nan, nan, ...,  0.,  0.,  0.], dtype=float32)</pre></div></li><li class='xr-var-item'><div class='xr-var-name'><span>vflag_6m</span></div><div class='xr-var-dims'>(time)</div><div class='xr-var-dtype'>float32</div><div class='xr-var-preview xr-preview'>nan nan nan nan ... 0.0 0.0 0.0 0.0</div><input id='attrs-29711441-fc93-4c48-ab79-02180fa9650f' class='xr-var-attrs-in' type='checkbox' ><label for='attrs-29711441-fc93-4c48-ab79-02180fa9650f' title='Show/Hide attributes'><svg class='icon xr-icon-file-text2'><use xlink:href='#icon-file-text2'></use></svg></label><input id='data-8802b08c-493c-4834-9858-ea8be02fa75a' class='xr-var-data-in' type='checkbox'><label for='data-8802b08c-493c-4834-9858-ea8be02fa75a' title='Show/Hide data repr'><svg class='icon xr-icon-database'><use xlink:href='#icon-database'></use></svg></label><div class='xr-var-attrs'><dl class='xr-attrs'><dt><span>short_name :</span></dt><dd>vflag.6m</dd></dl></div><div class='xr-var-data'><pre>array([nan, nan, nan, ...,  0.,  0.,  0.], dtype=float32)</pre></div></li><li class='xr-var-item'><div class='xr-var-name'><span>wflag_6m</span></div><div class='xr-var-dims'>(time)</div><div class='xr-var-dtype'>float32</div><div class='xr-var-preview xr-preview'>nan nan nan nan ... 0.0 0.0 0.0 0.0</div><input id='attrs-e840f270-cbb8-45a7-a4da-ff592318fb77' class='xr-var-attrs-in' type='checkbox' ><label for='attrs-e840f270-cbb8-45a7-a4da-ff592318fb77' title='Show/Hide attributes'><svg class='icon xr-icon-file-text2'><use xlink:href='#icon-file-text2'></use></svg></label><input id='data-d9e476f5-d95b-4e8a-a1aa-7ae0bb457ebb' class='xr-var-data-in' type='checkbox'><label for='data-d9e476f5-d95b-4e8a-a1aa-7ae0bb457ebb' title='Show/Hide data repr'><svg class='icon xr-icon-database'><use xlink:href='#icon-database'></use></svg></label><div class='xr-var-attrs'><dl class='xr-attrs'><dt><span>short_name :</span></dt><dd>wflag.6m</dd></dl></div><div class='xr-var-data'><pre>array([nan, nan, nan, ...,  0.,  0.,  0.], dtype=float32)</pre></div></li><li class='xr-var-item'><div class='xr-var-name'><span>tcflag_6m</span></div><div class='xr-var-dims'>(time)</div><div class='xr-var-dtype'>float32</div><div class='xr-var-preview xr-preview'>nan nan nan nan ... 0.0 0.0 0.0 0.0</div><input id='attrs-467dfeda-8797-4bc1-a610-9d472ff6a31d' class='xr-var-attrs-in' type='checkbox' ><label for='attrs-467dfeda-8797-4bc1-a610-9d472ff6a31d' title='Show/Hide attributes'><svg class='icon xr-icon-file-text2'><use xlink:href='#icon-file-text2'></use></svg></label><input id='data-cf9b28f8-26ed-41a2-aa62-e209cb3fcc43' class='xr-var-data-in' type='checkbox'><label for='data-cf9b28f8-26ed-41a2-aa62-e209cb3fcc43' title='Show/Hide data repr'><svg class='icon xr-icon-database'><use xlink:href='#icon-database'></use></svg></label><div class='xr-var-attrs'><dl class='xr-attrs'><dt><span>short_name :</span></dt><dd>tcflag.6m</dd></dl></div><div class='xr-var-data'><pre>array([nan, nan, nan, ...,  0.,  0.,  0.], dtype=float32)</pre></div></li><li class='xr-var-item'><div class='xr-var-name'><span>diag_6m</span></div><div class='xr-var-dims'>(time)</div><div class='xr-var-dtype'>float32</div><div class='xr-var-preview xr-preview'>nan nan nan ... 0.0 0.0004444 0.0</div><input id='attrs-9fa20a6a-bb44-4671-952f-d37daef3df17' class='xr-var-attrs-in' type='checkbox' ><label for='attrs-9fa20a6a-bb44-4671-952f-d37daef3df17' title='Show/Hide attributes'><svg class='icon xr-icon-file-text2'><use xlink:href='#icon-file-text2'></use></svg></label><input id='data-0d1a2d56-8320-4025-b04d-4986e0c32b90' class='xr-var-data-in' type='checkbox'><label for='data-0d1a2d56-8320-4025-b04d-4986e0c32b90' title='Show/Hide data repr'><svg class='icon xr-icon-database'><use xlink:href='#icon-database'></use></svg></label><div class='xr-var-attrs'><dl class='xr-attrs'><dt><span>short_name :</span></dt><dd>diag.6m</dd></dl></div><div class='xr-var-data'><pre>array([       nan,        nan,        nan, ..., 0.        , 0.00044444,\n",
       "       0.        ], dtype=float32)</pre></div></li><li class='xr-var-item'><div class='xr-var-name'><span>kh2oV_6m</span></div><div class='xr-var-dims'>(time)</div><div class='xr-var-dtype'>float32</div><div class='xr-var-preview xr-preview'>nan nan nan ... 0.4327 0.4304</div><input id='attrs-7a18d065-a247-4257-9887-cf4933d988e2' class='xr-var-attrs-in' type='checkbox' ><label for='attrs-7a18d065-a247-4257-9887-cf4933d988e2' title='Show/Hide attributes'><svg class='icon xr-icon-file-text2'><use xlink:href='#icon-file-text2'></use></svg></label><input id='data-91ed227d-9fdc-4308-a3dc-9ffdf3763bc0' class='xr-var-data-in' type='checkbox'><label for='data-91ed227d-9fdc-4308-a3dc-9ffdf3763bc0' title='Show/Hide data repr'><svg class='icon xr-icon-database'><use xlink:href='#icon-database'></use></svg></label><div class='xr-var-attrs'><dl class='xr-attrs'><dt><span>short_name :</span></dt><dd>kh2oV.6m</dd><dt><span>units :</span></dt><dd>V</dd></dl></div><div class='xr-var-data'><pre>array([       nan,        nan,        nan, ..., 0.41636324, 0.43267387,\n",
       "       0.43036938], dtype=float32)</pre></div></li><li class='xr-var-item'><div class='xr-var-name'><span>u_6m</span></div><div class='xr-var-dims'>(time)</div><div class='xr-var-dtype'>float32</div><div class='xr-var-preview xr-preview'>nan nan nan ... -1.871 -1.307 -0.78</div><input id='attrs-ab70809b-46cf-4dca-8949-d7aa482d8392' class='xr-var-attrs-in' type='checkbox' ><label for='attrs-ab70809b-46cf-4dca-8949-d7aa482d8392' title='Show/Hide attributes'><svg class='icon xr-icon-file-text2'><use xlink:href='#icon-file-text2'></use></svg></label><input id='data-6f8350be-304f-40f8-adfb-f1cd0b35f7ad' class='xr-var-data-in' type='checkbox'><label for='data-6f8350be-304f-40f8-adfb-f1cd0b35f7ad' title='Show/Hide data repr'><svg class='icon xr-icon-database'><use xlink:href='#icon-database'></use></svg></label><div class='xr-var-attrs'><dl class='xr-attrs'><dt><span>short_name :</span></dt><dd>u.6m</dd><dt><span>units :</span></dt><dd>m/s</dd><dt><span>counts :</span></dt><dd>counts_6m</dd></dl></div><div class='xr-var-data'><pre>array([       nan,        nan,        nan, ..., -1.8713516, -1.3066634,\n",
       "       -0.7799664], dtype=float32)</pre></div></li><li class='xr-var-item'><div class='xr-var-name'><span>v_6m</span></div><div class='xr-var-dims'>(time)</div><div class='xr-var-dtype'>float32</div><div class='xr-var-preview xr-preview'>nan nan nan ... 1.471 1.165 0.181</div><input id='attrs-9ed0e040-e75a-4d6b-8fce-27629726babc' class='xr-var-attrs-in' type='checkbox' ><label for='attrs-9ed0e040-e75a-4d6b-8fce-27629726babc' title='Show/Hide attributes'><svg class='icon xr-icon-file-text2'><use xlink:href='#icon-file-text2'></use></svg></label><input id='data-60aba18c-f077-4240-8b48-b0b32358edc7' class='xr-var-data-in' type='checkbox'><label for='data-60aba18c-f077-4240-8b48-b0b32358edc7' title='Show/Hide data repr'><svg class='icon xr-icon-database'><use xlink:href='#icon-database'></use></svg></label><div class='xr-var-attrs'><dl class='xr-attrs'><dt><span>short_name :</span></dt><dd>v.6m</dd><dt><span>units :</span></dt><dd>m/s</dd><dt><span>counts :</span></dt><dd>counts_6m</dd></dl></div><div class='xr-var-data'><pre>array([       nan,        nan,        nan, ..., 1.4708239 , 1.1649556 ,\n",
       "       0.18095247], dtype=float32)</pre></div></li><li class='xr-var-item'><div class='xr-var-name'><span>w_6m</span></div><div class='xr-var-dims'>(time)</div><div class='xr-var-dtype'>float32</div><div class='xr-var-preview xr-preview'>nan nan nan ... 0.1621 0.1378</div><input id='attrs-92319a45-b09f-4017-82e2-4371fcab4be8' class='xr-var-attrs-in' type='checkbox' ><label for='attrs-92319a45-b09f-4017-82e2-4371fcab4be8' title='Show/Hide attributes'><svg class='icon xr-icon-file-text2'><use xlink:href='#icon-file-text2'></use></svg></label><input id='data-71d62b60-4f74-43af-99f6-d0eafd5acd52' class='xr-var-data-in' type='checkbox'><label for='data-71d62b60-4f74-43af-99f6-d0eafd5acd52' title='Show/Hide data repr'><svg class='icon xr-icon-database'><use xlink:href='#icon-database'></use></svg></label><div class='xr-var-attrs'><dl class='xr-attrs'><dt><span>short_name :</span></dt><dd>w.6m</dd><dt><span>units :</span></dt><dd>m/s</dd><dt><span>counts :</span></dt><dd>counts_6m</dd></dl></div><div class='xr-var-data'><pre>array([       nan,        nan,        nan, ..., 0.11671059, 0.16209376,\n",
       "       0.1377727 ], dtype=float32)</pre></div></li><li class='xr-var-item'><div class='xr-var-name'><span>tc_6m</span></div><div class='xr-var-dims'>(time)</div><div class='xr-var-dtype'>float32</div><div class='xr-var-preview xr-preview'>nan nan nan ... 8.028 8.163 8.829</div><input id='attrs-8ac21526-ac97-4666-be11-3f7dbac6b872' class='xr-var-attrs-in' type='checkbox' ><label for='attrs-8ac21526-ac97-4666-be11-3f7dbac6b872' title='Show/Hide attributes'><svg class='icon xr-icon-file-text2'><use xlink:href='#icon-file-text2'></use></svg></label><input id='data-abef54d3-a60c-49a0-bac2-ebafb1a366f8' class='xr-var-data-in' type='checkbox'><label for='data-abef54d3-a60c-49a0-bac2-ebafb1a366f8' title='Show/Hide data repr'><svg class='icon xr-icon-database'><use xlink:href='#icon-database'></use></svg></label><div class='xr-var-attrs'><dl class='xr-attrs'><dt><span>short_name :</span></dt><dd>tc.6m</dd><dt><span>units :</span></dt><dd>degC</dd><dt><span>counts :</span></dt><dd>counts_6m</dd></dl></div><div class='xr-var-data'><pre>array([     nan,      nan,      nan, ..., 8.027935, 8.1625  , 8.829076],\n",
       "      dtype=float32)</pre></div></li><li class='xr-var-item'><div class='xr-var-name'><span>u_u_6m</span></div><div class='xr-var-dims'>(time)</div><div class='xr-var-dtype'>float32</div><div class='xr-var-preview xr-preview'>nan nan nan ... 0.08413 0.08512</div><input id='attrs-bfb06343-bc9f-4d40-8d79-556d44403fc0' class='xr-var-attrs-in' type='checkbox' ><label for='attrs-bfb06343-bc9f-4d40-8d79-556d44403fc0' title='Show/Hide attributes'><svg class='icon xr-icon-file-text2'><use xlink:href='#icon-file-text2'></use></svg></label><input id='data-f71f2a2c-2e71-43b7-af77-c2ff211fe1df' class='xr-var-data-in' type='checkbox'><label for='data-f71f2a2c-2e71-43b7-af77-c2ff211fe1df' title='Show/Hide data repr'><svg class='icon xr-icon-database'><use xlink:href='#icon-database'></use></svg></label><div class='xr-var-attrs'><dl class='xr-attrs'><dt><span>short_name :</span></dt><dd>u&#x27;u&#x27;.6m</dd><dt><span>units :</span></dt><dd>(m/s)^2</dd><dt><span>counts :</span></dt><dd>counts_6m</dd></dl></div><div class='xr-var-data'><pre>array([       nan,        nan,        nan, ..., 0.06199357, 0.08412507,\n",
       "       0.08511575], dtype=float32)</pre></div></li><li class='xr-var-item'><div class='xr-var-name'><span>u_v_6m</span></div><div class='xr-var-dims'>(time)</div><div class='xr-var-dtype'>float32</div><div class='xr-var-preview xr-preview'>nan nan nan ... -0.008188 -0.04024</div><input id='attrs-146c22b8-70dc-4bad-b9d4-477cb147fb70' class='xr-var-attrs-in' type='checkbox' ><label for='attrs-146c22b8-70dc-4bad-b9d4-477cb147fb70' title='Show/Hide attributes'><svg class='icon xr-icon-file-text2'><use xlink:href='#icon-file-text2'></use></svg></label><input id='data-7e5f8b1f-c4f4-4dee-b9e8-0085118663f5' class='xr-var-data-in' type='checkbox'><label for='data-7e5f8b1f-c4f4-4dee-b9e8-0085118663f5' title='Show/Hide data repr'><svg class='icon xr-icon-database'><use xlink:href='#icon-database'></use></svg></label><div class='xr-var-attrs'><dl class='xr-attrs'><dt><span>short_name :</span></dt><dd>u&#x27;v&#x27;.6m</dd><dt><span>units :</span></dt><dd>(m/s)^2</dd><dt><span>counts :</span></dt><dd>counts_6m</dd></dl></div><div class='xr-var-data'><pre>array([        nan,         nan,         nan, ..., -0.03010786,\n",
       "       -0.00818831, -0.04024386], dtype=float32)</pre></div></li><li class='xr-var-item'><div class='xr-var-name'><span>u_w_6m</span></div><div class='xr-var-dims'>(time)</div><div class='xr-var-dtype'>float32</div><div class='xr-var-preview xr-preview'>nan nan nan ... 0.02442 -0.01029</div><input id='attrs-8ab85a35-862c-4002-aa49-be6ffe9c5a33' class='xr-var-attrs-in' type='checkbox' ><label for='attrs-8ab85a35-862c-4002-aa49-be6ffe9c5a33' title='Show/Hide attributes'><svg class='icon xr-icon-file-text2'><use xlink:href='#icon-file-text2'></use></svg></label><input id='data-278caad8-6a6e-4664-b030-b878001a02c2' class='xr-var-data-in' type='checkbox'><label for='data-278caad8-6a6e-4664-b030-b878001a02c2' title='Show/Hide data repr'><svg class='icon xr-icon-database'><use xlink:href='#icon-database'></use></svg></label><div class='xr-var-attrs'><dl class='xr-attrs'><dt><span>short_name :</span></dt><dd>u&#x27;w&#x27;.6m</dd><dt><span>units :</span></dt><dd>(m/s)^2</dd><dt><span>counts :</span></dt><dd>counts_6m</dd></dl></div><div class='xr-var-data'><pre>array([        nan,         nan,         nan, ...,  0.00329278,\n",
       "        0.02442454, -0.01028689], dtype=float32)</pre></div></li><li class='xr-var-item'><div class='xr-var-name'><span>u_tc_6m</span></div><div class='xr-var-dims'>(time)</div><div class='xr-var-dtype'>float32</div><div class='xr-var-preview xr-preview'>nan nan nan ... 0.02538 0.07655</div><input id='attrs-1861e06e-9650-418d-b2a2-1af608051d7c' class='xr-var-attrs-in' type='checkbox' ><label for='attrs-1861e06e-9650-418d-b2a2-1af608051d7c' title='Show/Hide attributes'><svg class='icon xr-icon-file-text2'><use xlink:href='#icon-file-text2'></use></svg></label><input id='data-cc86c3cd-a770-4dd4-b535-81f4c3a2abed' class='xr-var-data-in' type='checkbox'><label for='data-cc86c3cd-a770-4dd4-b535-81f4c3a2abed' title='Show/Hide data repr'><svg class='icon xr-icon-database'><use xlink:href='#icon-database'></use></svg></label><div class='xr-var-attrs'><dl class='xr-attrs'><dt><span>short_name :</span></dt><dd>u&#x27;tc&#x27;.6m</dd><dt><span>units :</span></dt><dd>m/s degC</dd><dt><span>counts :</span></dt><dd>counts_6m</dd></dl></div><div class='xr-var-data'><pre>array([       nan,        nan,        nan, ..., 0.01150638, 0.02537986,\n",
       "       0.07655487], dtype=float32)</pre></div></li><li class='xr-var-item'><div class='xr-var-name'><span>v_v_6m</span></div><div class='xr-var-dims'>(time)</div><div class='xr-var-dtype'>float32</div><div class='xr-var-preview xr-preview'>nan nan nan ... 0.1043 0.1698</div><input id='attrs-fa4341c5-ca7a-4499-a303-f1e4a40c5f05' class='xr-var-attrs-in' type='checkbox' ><label for='attrs-fa4341c5-ca7a-4499-a303-f1e4a40c5f05' title='Show/Hide attributes'><svg class='icon xr-icon-file-text2'><use xlink:href='#icon-file-text2'></use></svg></label><input id='data-75083212-6992-44fb-ad07-759cf7939280' class='xr-var-data-in' type='checkbox'><label for='data-75083212-6992-44fb-ad07-759cf7939280' title='Show/Hide data repr'><svg class='icon xr-icon-database'><use xlink:href='#icon-database'></use></svg></label><div class='xr-var-attrs'><dl class='xr-attrs'><dt><span>short_name :</span></dt><dd>v&#x27;v&#x27;.6m</dd><dt><span>units :</span></dt><dd>(m/s)^2</dd><dt><span>counts :</span></dt><dd>counts_6m</dd></dl></div><div class='xr-var-data'><pre>array([       nan,        nan,        nan, ..., 0.11108015, 0.10428203,\n",
       "       0.1698302 ], dtype=float32)</pre></div></li><li class='xr-var-item'><div class='xr-var-name'><span>v_w_6m</span></div><div class='xr-var-dims'>(time)</div><div class='xr-var-dtype'>float32</div><div class='xr-var-preview xr-preview'>nan nan nan ... 0.01555 0.02737</div><input id='attrs-a5e78f34-02da-4062-b569-e431194436d0' class='xr-var-attrs-in' type='checkbox' ><label for='attrs-a5e78f34-02da-4062-b569-e431194436d0' title='Show/Hide attributes'><svg class='icon xr-icon-file-text2'><use xlink:href='#icon-file-text2'></use></svg></label><input id='data-cf509b4c-9d54-42a2-a29f-8929c5097bcb' class='xr-var-data-in' type='checkbox'><label for='data-cf509b4c-9d54-42a2-a29f-8929c5097bcb' title='Show/Hide data repr'><svg class='icon xr-icon-database'><use xlink:href='#icon-database'></use></svg></label><div class='xr-var-attrs'><dl class='xr-attrs'><dt><span>short_name :</span></dt><dd>v&#x27;w&#x27;.6m</dd><dt><span>units :</span></dt><dd>(m/s)^2</dd><dt><span>counts :</span></dt><dd>counts_6m</dd></dl></div><div class='xr-var-data'><pre>array([       nan,        nan,        nan, ..., 0.02723138, 0.01555228,\n",
       "       0.02736828], dtype=float32)</pre></div></li><li class='xr-var-item'><div class='xr-var-name'><span>v_tc_6m</span></div><div class='xr-var-dims'>(time)</div><div class='xr-var-dtype'>float32</div><div class='xr-var-preview xr-preview'>nan nan nan ... -0.03434 -0.08655</div><input id='attrs-f47535df-7981-47ab-b6fc-5c000dc8731b' class='xr-var-attrs-in' type='checkbox' ><label for='attrs-f47535df-7981-47ab-b6fc-5c000dc8731b' title='Show/Hide attributes'><svg class='icon xr-icon-file-text2'><use xlink:href='#icon-file-text2'></use></svg></label><input id='data-cf445776-5368-4360-a943-3e9d10d153cc' class='xr-var-data-in' type='checkbox'><label for='data-cf445776-5368-4360-a943-3e9d10d153cc' title='Show/Hide data repr'><svg class='icon xr-icon-database'><use xlink:href='#icon-database'></use></svg></label><div class='xr-var-attrs'><dl class='xr-attrs'><dt><span>short_name :</span></dt><dd>v&#x27;tc&#x27;.6m</dd><dt><span>units :</span></dt><dd>m/s degC</dd><dt><span>counts :</span></dt><dd>counts_6m</dd></dl></div><div class='xr-var-data'><pre>array([        nan,         nan,         nan, ..., -0.01943893,\n",
       "       -0.03433852, -0.08654604], dtype=float32)</pre></div></li><li class='xr-var-item'><div class='xr-var-name'><span>w_w_6m</span></div><div class='xr-var-dims'>(time)</div><div class='xr-var-dtype'>float32</div><div class='xr-var-preview xr-preview'>nan nan nan ... 0.0781 0.05008</div><input id='attrs-aca18d06-57cd-443a-b641-d4924ed0a79a' class='xr-var-attrs-in' type='checkbox' ><label for='attrs-aca18d06-57cd-443a-b641-d4924ed0a79a' title='Show/Hide attributes'><svg class='icon xr-icon-file-text2'><use xlink:href='#icon-file-text2'></use></svg></label><input id='data-1d30141d-194e-44f2-85c5-25425a8aa0b1' class='xr-var-data-in' type='checkbox'><label for='data-1d30141d-194e-44f2-85c5-25425a8aa0b1' title='Show/Hide data repr'><svg class='icon xr-icon-database'><use xlink:href='#icon-database'></use></svg></label><div class='xr-var-attrs'><dl class='xr-attrs'><dt><span>short_name :</span></dt><dd>w&#x27;w&#x27;.6m</dd><dt><span>units :</span></dt><dd>(m/s)^2</dd><dt><span>counts :</span></dt><dd>counts_6m</dd></dl></div><div class='xr-var-data'><pre>array([       nan,        nan,        nan, ..., 0.09256183, 0.07810149,\n",
       "       0.05007545], dtype=float32)</pre></div></li><li class='xr-var-item'><div class='xr-var-name'><span>w_tc_6m</span></div><div class='xr-var-dims'>(time)</div><div class='xr-var-dtype'>float32</div><div class='xr-var-preview xr-preview'>nan nan nan ... 0.02858 -0.008877</div><input id='attrs-5eb4ef6d-375b-4735-8555-89f069c66c27' class='xr-var-attrs-in' type='checkbox' ><label for='attrs-5eb4ef6d-375b-4735-8555-89f069c66c27' title='Show/Hide attributes'><svg class='icon xr-icon-file-text2'><use xlink:href='#icon-file-text2'></use></svg></label><input id='data-82c98d5b-2a51-459b-b43f-af8e5551151c' class='xr-var-data-in' type='checkbox'><label for='data-82c98d5b-2a51-459b-b43f-af8e5551151c' title='Show/Hide data repr'><svg class='icon xr-icon-database'><use xlink:href='#icon-database'></use></svg></label><div class='xr-var-attrs'><dl class='xr-attrs'><dt><span>short_name :</span></dt><dd>w&#x27;tc&#x27;.6m</dd><dt><span>units :</span></dt><dd>m/s degC</dd><dt><span>counts :</span></dt><dd>counts_6m</dd></dl></div><div class='xr-var-data'><pre>array([        nan,         nan,         nan, ...,  0.01155101,\n",
       "        0.02858194, -0.0088774 ], dtype=float32)</pre></div></li><li class='xr-var-item'><div class='xr-var-name'><span>tc_tc_6m</span></div><div class='xr-var-dims'>(time)</div><div class='xr-var-dtype'>float32</div><div class='xr-var-preview xr-preview'>nan nan nan ... 0.07981 0.2021</div><input id='attrs-0911aba0-9b63-4a2c-8ae4-62986e81ecf2' class='xr-var-attrs-in' type='checkbox' ><label for='attrs-0911aba0-9b63-4a2c-8ae4-62986e81ecf2' title='Show/Hide attributes'><svg class='icon xr-icon-file-text2'><use xlink:href='#icon-file-text2'></use></svg></label><input id='data-3665a302-6aee-4b29-9f21-6462af2c61dc' class='xr-var-data-in' type='checkbox'><label for='data-3665a302-6aee-4b29-9f21-6462af2c61dc' title='Show/Hide data repr'><svg class='icon xr-icon-database'><use xlink:href='#icon-database'></use></svg></label><div class='xr-var-attrs'><dl class='xr-attrs'><dt><span>short_name :</span></dt><dd>tc&#x27;tc&#x27;.6m</dd><dt><span>units :</span></dt><dd>(degC)^2</dd><dt><span>counts :</span></dt><dd>counts_6m</dd></dl></div><div class='xr-var-data'><pre>array([       nan,        nan,        nan, ..., 0.02351834, 0.07980973,\n",
       "       0.2021485 ], dtype=float32)</pre></div></li><li class='xr-var-item'><div class='xr-var-name'><span>counts_6m</span></div><div class='xr-var-dims'>(time)</div><div class='xr-var-dtype'>float64</div><div class='xr-var-preview xr-preview'>nan nan nan ... 9e+03 9e+03 9e+03</div><input id='attrs-8b69fb5d-500c-4e54-9799-e3ed4a4ad8bb' class='xr-var-attrs-in' type='checkbox' disabled><label for='attrs-8b69fb5d-500c-4e54-9799-e3ed4a4ad8bb' title='Show/Hide attributes'><svg class='icon xr-icon-file-text2'><use xlink:href='#icon-file-text2'></use></svg></label><input id='data-082289a4-de04-4a30-b7ab-61b4bb209b92' class='xr-var-data-in' type='checkbox'><label for='data-082289a4-de04-4a30-b7ab-61b4bb209b92' title='Show/Hide data repr'><svg class='icon xr-icon-database'><use xlink:href='#icon-database'></use></svg></label><div class='xr-var-attrs'><dl class='xr-attrs'></dl></div><div class='xr-var-data'><pre>array([  nan,   nan,   nan, ..., 9000., 9000., 9000.])</pre></div></li><li class='xr-var-item'><div class='xr-var-name'><span>uflag_15m</span></div><div class='xr-var-dims'>(time)</div><div class='xr-var-dtype'>float32</div><div class='xr-var-preview xr-preview'>nan nan nan nan ... 0.0 0.0 0.0 0.0</div><input id='attrs-36b19845-033a-4f96-938f-f8674711d8d4' class='xr-var-attrs-in' type='checkbox' ><label for='attrs-36b19845-033a-4f96-938f-f8674711d8d4' title='Show/Hide attributes'><svg class='icon xr-icon-file-text2'><use xlink:href='#icon-file-text2'></use></svg></label><input id='data-98c9cf19-5e38-4bd9-bcaf-9ba070b5418e' class='xr-var-data-in' type='checkbox'><label for='data-98c9cf19-5e38-4bd9-bcaf-9ba070b5418e' title='Show/Hide data repr'><svg class='icon xr-icon-database'><use xlink:href='#icon-database'></use></svg></label><div class='xr-var-attrs'><dl class='xr-attrs'><dt><span>short_name :</span></dt><dd>uflag.15m</dd></dl></div><div class='xr-var-data'><pre>array([nan, nan, nan, ...,  0.,  0.,  0.], dtype=float32)</pre></div></li><li class='xr-var-item'><div class='xr-var-name'><span>vflag_15m</span></div><div class='xr-var-dims'>(time)</div><div class='xr-var-dtype'>float32</div><div class='xr-var-preview xr-preview'>nan nan nan nan ... 0.0 0.0 0.0 0.0</div><input id='attrs-cee6c442-3395-453d-8708-9fbfbe7dcf92' class='xr-var-attrs-in' type='checkbox' ><label for='attrs-cee6c442-3395-453d-8708-9fbfbe7dcf92' title='Show/Hide attributes'><svg class='icon xr-icon-file-text2'><use xlink:href='#icon-file-text2'></use></svg></label><input id='data-d93a2bab-4c03-41ce-b615-244b178a3b68' class='xr-var-data-in' type='checkbox'><label for='data-d93a2bab-4c03-41ce-b615-244b178a3b68' title='Show/Hide data repr'><svg class='icon xr-icon-database'><use xlink:href='#icon-database'></use></svg></label><div class='xr-var-attrs'><dl class='xr-attrs'><dt><span>short_name :</span></dt><dd>vflag.15m</dd></dl></div><div class='xr-var-data'><pre>array([nan, nan, nan, ...,  0.,  0.,  0.], dtype=float32)</pre></div></li><li class='xr-var-item'><div class='xr-var-name'><span>wflag_15m</span></div><div class='xr-var-dims'>(time)</div><div class='xr-var-dtype'>float32</div><div class='xr-var-preview xr-preview'>nan nan nan nan ... 0.0 0.0 0.0 0.0</div><input id='attrs-5f0b64e5-2c2f-4dab-88f5-b1308962543e' class='xr-var-attrs-in' type='checkbox' ><label for='attrs-5f0b64e5-2c2f-4dab-88f5-b1308962543e' title='Show/Hide attributes'><svg class='icon xr-icon-file-text2'><use xlink:href='#icon-file-text2'></use></svg></label><input id='data-64ae3b45-355b-40f4-8f88-a05a47e10e3e' class='xr-var-data-in' type='checkbox'><label for='data-64ae3b45-355b-40f4-8f88-a05a47e10e3e' title='Show/Hide data repr'><svg class='icon xr-icon-database'><use xlink:href='#icon-database'></use></svg></label><div class='xr-var-attrs'><dl class='xr-attrs'><dt><span>short_name :</span></dt><dd>wflag.15m</dd></dl></div><div class='xr-var-data'><pre>array([nan, nan, nan, ...,  0.,  0.,  0.], dtype=float32)</pre></div></li><li class='xr-var-item'><div class='xr-var-name'><span>tcflag_15m</span></div><div class='xr-var-dims'>(time)</div><div class='xr-var-dtype'>float32</div><div class='xr-var-preview xr-preview'>nan nan nan nan ... 0.0 0.0 0.0 0.0</div><input id='attrs-baeb652d-97d4-4b6c-8363-982976d17ef8' class='xr-var-attrs-in' type='checkbox' ><label for='attrs-baeb652d-97d4-4b6c-8363-982976d17ef8' title='Show/Hide attributes'><svg class='icon xr-icon-file-text2'><use xlink:href='#icon-file-text2'></use></svg></label><input id='data-5aa30dce-e9ee-43bd-932a-c3abd29595c5' class='xr-var-data-in' type='checkbox'><label for='data-5aa30dce-e9ee-43bd-932a-c3abd29595c5' title='Show/Hide data repr'><svg class='icon xr-icon-database'><use xlink:href='#icon-database'></use></svg></label><div class='xr-var-attrs'><dl class='xr-attrs'><dt><span>short_name :</span></dt><dd>tcflag.15m</dd></dl></div><div class='xr-var-data'><pre>array([nan, nan, nan, ...,  0.,  0.,  0.], dtype=float32)</pre></div></li><li class='xr-var-item'><div class='xr-var-name'><span>diag_15m</span></div><div class='xr-var-dims'>(time)</div><div class='xr-var-dtype'>float32</div><div class='xr-var-preview xr-preview'>nan nan nan nan ... 0.0 0.0 0.0 0.0</div><input id='attrs-fd241777-abd6-4b9d-a30c-be71769f2d53' class='xr-var-attrs-in' type='checkbox' ><label for='attrs-fd241777-abd6-4b9d-a30c-be71769f2d53' title='Show/Hide attributes'><svg class='icon xr-icon-file-text2'><use xlink:href='#icon-file-text2'></use></svg></label><input id='data-0c5cba6f-c859-4cf3-ae83-3c3f721397de' class='xr-var-data-in' type='checkbox'><label for='data-0c5cba6f-c859-4cf3-ae83-3c3f721397de' title='Show/Hide data repr'><svg class='icon xr-icon-database'><use xlink:href='#icon-database'></use></svg></label><div class='xr-var-attrs'><dl class='xr-attrs'><dt><span>short_name :</span></dt><dd>diag.15m</dd></dl></div><div class='xr-var-data'><pre>array([nan, nan, nan, ...,  0.,  0.,  0.], dtype=float32)</pre></div></li><li class='xr-var-item'><div class='xr-var-name'><span>kh2oV_15m</span></div><div class='xr-var-dims'>(time)</div><div class='xr-var-dtype'>float32</div><div class='xr-var-preview xr-preview'>nan nan nan ... 0.1775 0.1878 0.194</div><input id='attrs-c3606202-e631-4264-bb6f-52e119b98371' class='xr-var-attrs-in' type='checkbox' ><label for='attrs-c3606202-e631-4264-bb6f-52e119b98371' title='Show/Hide attributes'><svg class='icon xr-icon-file-text2'><use xlink:href='#icon-file-text2'></use></svg></label><input id='data-854d78ec-a927-45b1-a10b-4e0ed277e5ec' class='xr-var-data-in' type='checkbox'><label for='data-854d78ec-a927-45b1-a10b-4e0ed277e5ec' title='Show/Hide data repr'><svg class='icon xr-icon-database'><use xlink:href='#icon-database'></use></svg></label><div class='xr-var-attrs'><dl class='xr-attrs'><dt><span>short_name :</span></dt><dd>kh2oV.15m</dd><dt><span>units :</span></dt><dd>V</dd></dl></div><div class='xr-var-data'><pre>array([       nan,        nan,        nan, ..., 0.1775347 , 0.18779856,\n",
       "       0.19395907], dtype=float32)</pre></div></li><li class='xr-var-item'><div class='xr-var-name'><span>u_15m</span></div><div class='xr-var-dims'>(time)</div><div class='xr-var-dtype'>float32</div><div class='xr-var-preview xr-preview'>nan nan nan ... -1.402 -0.9924</div><input id='attrs-9e70cccb-5186-4193-b24c-da97e0029978' class='xr-var-attrs-in' type='checkbox' ><label for='attrs-9e70cccb-5186-4193-b24c-da97e0029978' title='Show/Hide attributes'><svg class='icon xr-icon-file-text2'><use xlink:href='#icon-file-text2'></use></svg></label><input id='data-af72887e-c158-4a02-9438-aac7083c60bc' class='xr-var-data-in' type='checkbox'><label for='data-af72887e-c158-4a02-9438-aac7083c60bc' title='Show/Hide data repr'><svg class='icon xr-icon-database'><use xlink:href='#icon-database'></use></svg></label><div class='xr-var-attrs'><dl class='xr-attrs'><dt><span>short_name :</span></dt><dd>u.15m</dd><dt><span>units :</span></dt><dd>m/s</dd><dt><span>counts :</span></dt><dd>counts_15m</dd></dl></div><div class='xr-var-data'><pre>array([       nan,        nan,        nan, ..., -2.0479577, -1.4024419,\n",
       "       -0.9923678], dtype=float32)</pre></div></li><li class='xr-var-item'><div class='xr-var-name'><span>v_15m</span></div><div class='xr-var-dims'>(time)</div><div class='xr-var-dtype'>float32</div><div class='xr-var-preview xr-preview'>nan nan nan ... 1.528 1.206 0.1431</div><input id='attrs-ea347a8f-2e36-4ffd-bb85-54a422630c0f' class='xr-var-attrs-in' type='checkbox' ><label for='attrs-ea347a8f-2e36-4ffd-bb85-54a422630c0f' title='Show/Hide attributes'><svg class='icon xr-icon-file-text2'><use xlink:href='#icon-file-text2'></use></svg></label><input id='data-d0372330-264b-459a-b042-f9b5628abe83' class='xr-var-data-in' type='checkbox'><label for='data-d0372330-264b-459a-b042-f9b5628abe83' title='Show/Hide data repr'><svg class='icon xr-icon-database'><use xlink:href='#icon-database'></use></svg></label><div class='xr-var-attrs'><dl class='xr-attrs'><dt><span>short_name :</span></dt><dd>v.15m</dd><dt><span>units :</span></dt><dd>m/s</dd><dt><span>counts :</span></dt><dd>counts_15m</dd></dl></div><div class='xr-var-data'><pre>array([      nan,       nan,       nan, ..., 1.5275059, 1.2057495,\n",
       "       0.1430669], dtype=float32)</pre></div></li><li class='xr-var-item'><div class='xr-var-name'><span>w_15m</span></div><div class='xr-var-dims'>(time)</div><div class='xr-var-dtype'>float32</div><div class='xr-var-preview xr-preview'>nan nan nan ... 0.1845 0.01367</div><input id='attrs-45fff54e-6ab2-4079-bde9-890d0c7d1f15' class='xr-var-attrs-in' type='checkbox' ><label for='attrs-45fff54e-6ab2-4079-bde9-890d0c7d1f15' title='Show/Hide attributes'><svg class='icon xr-icon-file-text2'><use xlink:href='#icon-file-text2'></use></svg></label><input id='data-c8940100-2f43-46f8-b593-f5963dacf0d1' class='xr-var-data-in' type='checkbox'><label for='data-c8940100-2f43-46f8-b593-f5963dacf0d1' title='Show/Hide data repr'><svg class='icon xr-icon-database'><use xlink:href='#icon-database'></use></svg></label><div class='xr-var-attrs'><dl class='xr-attrs'><dt><span>short_name :</span></dt><dd>w.15m</dd><dt><span>units :</span></dt><dd>m/s</dd><dt><span>counts :</span></dt><dd>counts_15m</dd></dl></div><div class='xr-var-data'><pre>array([       nan,        nan,        nan, ..., 0.23430534, 0.18454996,\n",
       "       0.013671  ], dtype=float32)</pre></div></li><li class='xr-var-item'><div class='xr-var-name'><span>tc_15m</span></div><div class='xr-var-dims'>(time)</div><div class='xr-var-dtype'>float32</div><div class='xr-var-preview xr-preview'>nan nan nan ... 7.934 7.997 8.484</div><input id='attrs-9aa32c18-e5e5-4c76-bccc-108f1e286c8f' class='xr-var-attrs-in' type='checkbox' ><label for='attrs-9aa32c18-e5e5-4c76-bccc-108f1e286c8f' title='Show/Hide attributes'><svg class='icon xr-icon-file-text2'><use xlink:href='#icon-file-text2'></use></svg></label><input id='data-6d5293a9-0e0d-4a26-aa6f-81d538f12f38' class='xr-var-data-in' type='checkbox'><label for='data-6d5293a9-0e0d-4a26-aa6f-81d538f12f38' title='Show/Hide data repr'><svg class='icon xr-icon-database'><use xlink:href='#icon-database'></use></svg></label><div class='xr-var-attrs'><dl class='xr-attrs'><dt><span>short_name :</span></dt><dd>tc.15m</dd><dt><span>units :</span></dt><dd>degC</dd><dt><span>counts :</span></dt><dd>counts_15m</dd></dl></div><div class='xr-var-data'><pre>array([     nan,      nan,      nan, ..., 7.933793, 7.996771, 8.484028],\n",
       "      dtype=float32)</pre></div></li><li class='xr-var-item'><div class='xr-var-name'><span>u_u_15m</span></div><div class='xr-var-dims'>(time)</div><div class='xr-var-dtype'>float32</div><div class='xr-var-preview xr-preview'>nan nan nan ... 0.06533 0.08427</div><input id='attrs-f7b859d4-1ff7-413e-8a44-04dddd662b09' class='xr-var-attrs-in' type='checkbox' ><label for='attrs-f7b859d4-1ff7-413e-8a44-04dddd662b09' title='Show/Hide attributes'><svg class='icon xr-icon-file-text2'><use xlink:href='#icon-file-text2'></use></svg></label><input id='data-fe49752f-fb1d-4474-a169-aec575385a9c' class='xr-var-data-in' type='checkbox'><label for='data-fe49752f-fb1d-4474-a169-aec575385a9c' title='Show/Hide data repr'><svg class='icon xr-icon-database'><use xlink:href='#icon-database'></use></svg></label><div class='xr-var-attrs'><dl class='xr-attrs'><dt><span>short_name :</span></dt><dd>u&#x27;u&#x27;.15m</dd><dt><span>units :</span></dt><dd>(m/s)^2</dd><dt><span>counts :</span></dt><dd>counts_15m</dd></dl></div><div class='xr-var-data'><pre>array([       nan,        nan,        nan, ..., 0.05131586, 0.06532897,\n",
       "       0.08426648], dtype=float32)</pre></div></li><li class='xr-var-item'><div class='xr-var-name'><span>u_v_15m</span></div><div class='xr-var-dims'>(time)</div><div class='xr-var-dtype'>float32</div><div class='xr-var-preview xr-preview'>nan nan nan ... -0.003661 -0.06869</div><input id='attrs-311ad4fd-5a35-4c65-9dea-eee8eff5d6ce' class='xr-var-attrs-in' type='checkbox' ><label for='attrs-311ad4fd-5a35-4c65-9dea-eee8eff5d6ce' title='Show/Hide attributes'><svg class='icon xr-icon-file-text2'><use xlink:href='#icon-file-text2'></use></svg></label><input id='data-66638a57-3e5a-4432-9dee-702bf0b31d8a' class='xr-var-data-in' type='checkbox'><label for='data-66638a57-3e5a-4432-9dee-702bf0b31d8a' title='Show/Hide data repr'><svg class='icon xr-icon-database'><use xlink:href='#icon-database'></use></svg></label><div class='xr-var-attrs'><dl class='xr-attrs'><dt><span>short_name :</span></dt><dd>u&#x27;v&#x27;.15m</dd><dt><span>units :</span></dt><dd>(m/s)^2</dd><dt><span>counts :</span></dt><dd>counts_15m</dd></dl></div><div class='xr-var-data'><pre>array([        nan,         nan,         nan, ..., -0.0337867 ,\n",
       "       -0.00366074, -0.06869026], dtype=float32)</pre></div></li><li class='xr-var-item'><div class='xr-var-name'><span>u_w_15m</span></div><div class='xr-var-dims'>(time)</div><div class='xr-var-dtype'>float32</div><div class='xr-var-preview xr-preview'>nan nan nan ... 0.01078 -0.0007536</div><input id='attrs-d0cbcec7-b905-4576-9e6d-86c9597ae086' class='xr-var-attrs-in' type='checkbox' ><label for='attrs-d0cbcec7-b905-4576-9e6d-86c9597ae086' title='Show/Hide attributes'><svg class='icon xr-icon-file-text2'><use xlink:href='#icon-file-text2'></use></svg></label><input id='data-fe428cf4-a774-42ab-926b-f96b8ea80bcd' class='xr-var-data-in' type='checkbox'><label for='data-fe428cf4-a774-42ab-926b-f96b8ea80bcd' title='Show/Hide data repr'><svg class='icon xr-icon-database'><use xlink:href='#icon-database'></use></svg></label><div class='xr-var-attrs'><dl class='xr-attrs'><dt><span>short_name :</span></dt><dd>u&#x27;w&#x27;.15m</dd><dt><span>units :</span></dt><dd>(m/s)^2</dd><dt><span>counts :</span></dt><dd>counts_15m</dd></dl></div><div class='xr-var-data'><pre>array([        nan,         nan,         nan, ...,  0.00898206,\n",
       "        0.01078314, -0.00075363], dtype=float32)</pre></div></li><li class='xr-var-item'><div class='xr-var-name'><span>u_tc_15m</span></div><div class='xr-var-dims'>(time)</div><div class='xr-var-dtype'>float32</div><div class='xr-var-preview xr-preview'>nan nan nan ... 0.01033 0.06531</div><input id='attrs-f802b766-b1a5-4e45-a6b2-0758e979c5d3' class='xr-var-attrs-in' type='checkbox' ><label for='attrs-f802b766-b1a5-4e45-a6b2-0758e979c5d3' title='Show/Hide attributes'><svg class='icon xr-icon-file-text2'><use xlink:href='#icon-file-text2'></use></svg></label><input id='data-d3b9cad4-75b1-41fb-af1a-7d1a34b34ba1' class='xr-var-data-in' type='checkbox'><label for='data-d3b9cad4-75b1-41fb-af1a-7d1a34b34ba1' title='Show/Hide data repr'><svg class='icon xr-icon-database'><use xlink:href='#icon-database'></use></svg></label><div class='xr-var-attrs'><dl class='xr-attrs'><dt><span>short_name :</span></dt><dd>u&#x27;tc&#x27;.15m</dd><dt><span>units :</span></dt><dd>m/s degC</dd><dt><span>counts :</span></dt><dd>counts_15m</dd></dl></div><div class='xr-var-data'><pre>array([       nan,        nan,        nan, ..., 0.01179536, 0.01033052,\n",
       "       0.06531429], dtype=float32)</pre></div></li><li class='xr-var-item'><div class='xr-var-name'><span>v_v_15m</span></div><div class='xr-var-dims'>(time)</div><div class='xr-var-dtype'>float32</div><div class='xr-var-preview xr-preview'>nan nan nan ... 0.07283 0.1903</div><input id='attrs-f84e20a6-f247-4961-a6f2-8c1f707c1966' class='xr-var-attrs-in' type='checkbox' ><label for='attrs-f84e20a6-f247-4961-a6f2-8c1f707c1966' title='Show/Hide attributes'><svg class='icon xr-icon-file-text2'><use xlink:href='#icon-file-text2'></use></svg></label><input id='data-837063f6-98dc-4551-883d-b47cc8cf1157' class='xr-var-data-in' type='checkbox'><label for='data-837063f6-98dc-4551-883d-b47cc8cf1157' title='Show/Hide data repr'><svg class='icon xr-icon-database'><use xlink:href='#icon-database'></use></svg></label><div class='xr-var-attrs'><dl class='xr-attrs'><dt><span>short_name :</span></dt><dd>v&#x27;v&#x27;.15m</dd><dt><span>units :</span></dt><dd>(m/s)^2</dd><dt><span>counts :</span></dt><dd>counts_15m</dd></dl></div><div class='xr-var-data'><pre>array([       nan,        nan,        nan, ..., 0.15627201, 0.0728277 ,\n",
       "       0.19032088], dtype=float32)</pre></div></li><li class='xr-var-item'><div class='xr-var-name'><span>v_w_15m</span></div><div class='xr-var-dims'>(time)</div><div class='xr-var-dtype'>float32</div><div class='xr-var-preview xr-preview'>nan nan nan ... 0.009908 0.03569</div><input id='attrs-9ee4c3e2-c589-4df9-a3dd-6b245080bfa4' class='xr-var-attrs-in' type='checkbox' ><label for='attrs-9ee4c3e2-c589-4df9-a3dd-6b245080bfa4' title='Show/Hide attributes'><svg class='icon xr-icon-file-text2'><use xlink:href='#icon-file-text2'></use></svg></label><input id='data-b4b46929-6ece-48f6-82ff-bf3b68c39b95' class='xr-var-data-in' type='checkbox'><label for='data-b4b46929-6ece-48f6-82ff-bf3b68c39b95' title='Show/Hide data repr'><svg class='icon xr-icon-database'><use xlink:href='#icon-database'></use></svg></label><div class='xr-var-attrs'><dl class='xr-attrs'><dt><span>short_name :</span></dt><dd>v&#x27;w&#x27;.15m</dd><dt><span>units :</span></dt><dd>(m/s)^2</dd><dt><span>counts :</span></dt><dd>counts_15m</dd></dl></div><div class='xr-var-data'><pre>array([       nan,        nan,        nan, ..., 0.02108318, 0.00990849,\n",
       "       0.03568643], dtype=float32)</pre></div></li><li class='xr-var-item'><div class='xr-var-name'><span>v_tc_15m</span></div><div class='xr-var-dims'>(time)</div><div class='xr-var-dtype'>float32</div><div class='xr-var-preview xr-preview'>nan nan nan ... -0.009541 -0.05378</div><input id='attrs-1300c279-f8c9-4b78-b370-c34c9a8e0edc' class='xr-var-attrs-in' type='checkbox' ><label for='attrs-1300c279-f8c9-4b78-b370-c34c9a8e0edc' title='Show/Hide attributes'><svg class='icon xr-icon-file-text2'><use xlink:href='#icon-file-text2'></use></svg></label><input id='data-a67892d2-d6d9-4d46-950c-7c4eb6e0e1df' class='xr-var-data-in' type='checkbox'><label for='data-a67892d2-d6d9-4d46-950c-7c4eb6e0e1df' title='Show/Hide data repr'><svg class='icon xr-icon-database'><use xlink:href='#icon-database'></use></svg></label><div class='xr-var-attrs'><dl class='xr-attrs'><dt><span>short_name :</span></dt><dd>v&#x27;tc&#x27;.15m</dd><dt><span>units :</span></dt><dd>m/s degC</dd><dt><span>counts :</span></dt><dd>counts_15m</dd></dl></div><div class='xr-var-data'><pre>array([        nan,         nan,         nan, ..., -0.01917691,\n",
       "       -0.00954063, -0.0537801 ], dtype=float32)</pre></div></li><li class='xr-var-item'><div class='xr-var-name'><span>w_w_15m</span></div><div class='xr-var-dims'>(time)</div><div class='xr-var-dtype'>float32</div><div class='xr-var-preview xr-preview'>nan nan nan ... 0.06416 0.04038</div><input id='attrs-b1844df3-3e63-43dd-9e17-f5ae62bd3c33' class='xr-var-attrs-in' type='checkbox' ><label for='attrs-b1844df3-3e63-43dd-9e17-f5ae62bd3c33' title='Show/Hide attributes'><svg class='icon xr-icon-file-text2'><use xlink:href='#icon-file-text2'></use></svg></label><input id='data-1cc7299e-a37d-4606-a333-9beafb196f30' class='xr-var-data-in' type='checkbox'><label for='data-1cc7299e-a37d-4606-a333-9beafb196f30' title='Show/Hide data repr'><svg class='icon xr-icon-database'><use xlink:href='#icon-database'></use></svg></label><div class='xr-var-attrs'><dl class='xr-attrs'><dt><span>short_name :</span></dt><dd>w&#x27;w&#x27;.15m</dd><dt><span>units :</span></dt><dd>(m/s)^2</dd><dt><span>counts :</span></dt><dd>counts_15m</dd></dl></div><div class='xr-var-data'><pre>array([       nan,        nan,        nan, ..., 0.03801391, 0.06415618,\n",
       "       0.04037673], dtype=float32)</pre></div></li><li class='xr-var-item'><div class='xr-var-name'><span>w_tc_15m</span></div><div class='xr-var-dims'>(time)</div><div class='xr-var-dtype'>float32</div><div class='xr-var-preview xr-preview'>nan nan nan ... 0.02502 0.01456</div><input id='attrs-564d7d2d-6bb8-495b-a9c6-749ab2d3d85d' class='xr-var-attrs-in' type='checkbox' ><label for='attrs-564d7d2d-6bb8-495b-a9c6-749ab2d3d85d' title='Show/Hide attributes'><svg class='icon xr-icon-file-text2'><use xlink:href='#icon-file-text2'></use></svg></label><input id='data-05b20092-4c50-4a18-9bb1-10f4cd81951a' class='xr-var-data-in' type='checkbox'><label for='data-05b20092-4c50-4a18-9bb1-10f4cd81951a' title='Show/Hide data repr'><svg class='icon xr-icon-database'><use xlink:href='#icon-database'></use></svg></label><div class='xr-var-attrs'><dl class='xr-attrs'><dt><span>short_name :</span></dt><dd>w&#x27;tc&#x27;.15m</dd><dt><span>units :</span></dt><dd>m/s degC</dd><dt><span>counts :</span></dt><dd>counts_15m</dd></dl></div><div class='xr-var-data'><pre>array([       nan,        nan,        nan, ..., 0.01032378, 0.025025  ,\n",
       "       0.01456454], dtype=float32)</pre></div></li><li class='xr-var-item'><div class='xr-var-name'><span>tc_tc_15m</span></div><div class='xr-var-dims'>(time)</div><div class='xr-var-dtype'>float32</div><div class='xr-var-preview xr-preview'>nan nan nan ... 0.02985 0.1202</div><input id='attrs-b069f463-e560-4919-8daa-4d2d4ecc5b26' class='xr-var-attrs-in' type='checkbox' ><label for='attrs-b069f463-e560-4919-8daa-4d2d4ecc5b26' title='Show/Hide attributes'><svg class='icon xr-icon-file-text2'><use xlink:href='#icon-file-text2'></use></svg></label><input id='data-5a4180bd-0952-44bc-9973-69affc88547b' class='xr-var-data-in' type='checkbox'><label for='data-5a4180bd-0952-44bc-9973-69affc88547b' title='Show/Hide data repr'><svg class='icon xr-icon-database'><use xlink:href='#icon-database'></use></svg></label><div class='xr-var-attrs'><dl class='xr-attrs'><dt><span>short_name :</span></dt><dd>tc&#x27;tc&#x27;.15m</dd><dt><span>units :</span></dt><dd>(degC)^2</dd><dt><span>counts :</span></dt><dd>counts_15m</dd></dl></div><div class='xr-var-data'><pre>array([       nan,        nan,        nan, ..., 0.02344079, 0.02985356,\n",
       "       0.12021843], dtype=float32)</pre></div></li><li class='xr-var-item'><div class='xr-var-name'><span>counts_15m</span></div><div class='xr-var-dims'>(time)</div><div class='xr-var-dtype'>float64</div><div class='xr-var-preview xr-preview'>nan nan nan ... 9e+03 9e+03</div><input id='attrs-b3446571-7232-4997-9e09-605778ecdb53' class='xr-var-attrs-in' type='checkbox' disabled><label for='attrs-b3446571-7232-4997-9e09-605778ecdb53' title='Show/Hide attributes'><svg class='icon xr-icon-file-text2'><use xlink:href='#icon-file-text2'></use></svg></label><input id='data-8aebdcfa-643f-48c6-8f6f-ad4674a53ff9' class='xr-var-data-in' type='checkbox'><label for='data-8aebdcfa-643f-48c6-8f6f-ad4674a53ff9' title='Show/Hide data repr'><svg class='icon xr-icon-database'><use xlink:href='#icon-database'></use></svg></label><div class='xr-var-attrs'><dl class='xr-attrs'></dl></div><div class='xr-var-data'><pre>array([  nan,   nan,   nan, ..., 9001., 9000., 9000.])</pre></div></li><li class='xr-var-item'><div class='xr-var-name'><span>kh2o_6m</span></div><div class='xr-var-dims'>(time)</div><div class='xr-var-dtype'>float32</div><div class='xr-var-preview xr-preview'>nan nan nan ... 9.254 9.051 9.079</div><input id='attrs-fa4fe641-7223-4b91-883c-77e2ffe68b95' class='xr-var-attrs-in' type='checkbox' ><label for='attrs-fa4fe641-7223-4b91-883c-77e2ffe68b95' title='Show/Hide attributes'><svg class='icon xr-icon-file-text2'><use xlink:href='#icon-file-text2'></use></svg></label><input id='data-bd02960d-6d0d-4c86-9c0c-025ada2deba3' class='xr-var-data-in' type='checkbox'><label for='data-bd02960d-6d0d-4c86-9c0c-025ada2deba3' title='Show/Hide data repr'><svg class='icon xr-icon-database'><use xlink:href='#icon-database'></use></svg></label><div class='xr-var-attrs'><dl class='xr-attrs'><dt><span>short_name :</span></dt><dd>kh2o.6m</dd><dt><span>units :</span></dt><dd>g/m^3</dd><dt><span>counts :</span></dt><dd>counts_6m_1</dd></dl></div><div class='xr-var-data'><pre>array([     nan,      nan,      nan, ..., 9.253884, 9.051049, 9.078959],\n",
       "      dtype=float32)</pre></div></li><li class='xr-var-item'><div class='xr-var-name'><span>kh2o_kh2o_6m</span></div><div class='xr-var-dims'>(time)</div><div class='xr-var-dtype'>float32</div><div class='xr-var-preview xr-preview'>nan nan nan ... 0.01171 0.0114</div><input id='attrs-b6a566a2-be72-4421-8bdd-ca1e0f5b7432' class='xr-var-attrs-in' type='checkbox' ><label for='attrs-b6a566a2-be72-4421-8bdd-ca1e0f5b7432' title='Show/Hide attributes'><svg class='icon xr-icon-file-text2'><use xlink:href='#icon-file-text2'></use></svg></label><input id='data-0a038e35-0c1e-411b-b4dd-b68edafbd0ce' class='xr-var-data-in' type='checkbox'><label for='data-0a038e35-0c1e-411b-b4dd-b68edafbd0ce' title='Show/Hide data repr'><svg class='icon xr-icon-database'><use xlink:href='#icon-database'></use></svg></label><div class='xr-var-attrs'><dl class='xr-attrs'><dt><span>short_name :</span></dt><dd>kh2o&#x27;kh2o&#x27;.6m</dd><dt><span>units :</span></dt><dd>(g/m^3)^2</dd><dt><span>counts :</span></dt><dd>counts_6m_1</dd></dl></div><div class='xr-var-data'><pre>array([       nan,        nan,        nan, ..., 0.02987461, 0.01171434,\n",
       "       0.01139548], dtype=float32)</pre></div></li><li class='xr-var-item'><div class='xr-var-name'><span>u_kh2o_6m</span></div><div class='xr-var-dims'>(time)</div><div class='xr-var-dtype'>float32</div><div class='xr-var-preview xr-preview'>nan nan nan ... -0.003876 -0.01357</div><input id='attrs-3ae000c0-9f62-4b3a-bf71-4141c27a2cec' class='xr-var-attrs-in' type='checkbox' ><label for='attrs-3ae000c0-9f62-4b3a-bf71-4141c27a2cec' title='Show/Hide attributes'><svg class='icon xr-icon-file-text2'><use xlink:href='#icon-file-text2'></use></svg></label><input id='data-f2e45d06-cf87-437f-ab68-0b61fbebb76f' class='xr-var-data-in' type='checkbox'><label for='data-f2e45d06-cf87-437f-ab68-0b61fbebb76f' title='Show/Hide data repr'><svg class='icon xr-icon-database'><use xlink:href='#icon-database'></use></svg></label><div class='xr-var-attrs'><dl class='xr-attrs'><dt><span>short_name :</span></dt><dd>u&#x27;kh2o&#x27;.6m</dd><dt><span>units :</span></dt><dd>m/s g/m^3</dd><dt><span>counts :</span></dt><dd>counts_6m_1</dd></dl></div><div class='xr-var-data'><pre>array([        nan,         nan,         nan, ...,  0.00459038,\n",
       "       -0.00387626, -0.01357267], dtype=float32)</pre></div></li><li class='xr-var-item'><div class='xr-var-name'><span>v_kh2o_6m</span></div><div class='xr-var-dims'>(time)</div><div class='xr-var-dtype'>float32</div><div class='xr-var-preview xr-preview'>nan nan nan ... -0.01761 0.02702</div><input id='attrs-25669cd5-f31d-48df-87c6-8fe423169b46' class='xr-var-attrs-in' type='checkbox' ><label for='attrs-25669cd5-f31d-48df-87c6-8fe423169b46' title='Show/Hide attributes'><svg class='icon xr-icon-file-text2'><use xlink:href='#icon-file-text2'></use></svg></label><input id='data-779219f3-8dc9-4332-98aa-86cdbd4c8bf9' class='xr-var-data-in' type='checkbox'><label for='data-779219f3-8dc9-4332-98aa-86cdbd4c8bf9' title='Show/Hide data repr'><svg class='icon xr-icon-database'><use xlink:href='#icon-database'></use></svg></label><div class='xr-var-attrs'><dl class='xr-attrs'><dt><span>short_name :</span></dt><dd>v&#x27;kh2o&#x27;.6m</dd><dt><span>units :</span></dt><dd>m/s g/m^3</dd><dt><span>counts :</span></dt><dd>counts_6m_1</dd></dl></div><div class='xr-var-data'><pre>array([        nan,         nan,         nan, ...,  0.00667192,\n",
       "       -0.01760695,  0.02702191], dtype=float32)</pre></div></li><li class='xr-var-item'><div class='xr-var-name'><span>w_kh2o_6m</span></div><div class='xr-var-dims'>(time)</div><div class='xr-var-dtype'>float32</div><div class='xr-var-preview xr-preview'>nan nan nan ... 0.001579 0.007851</div><input id='attrs-d12af784-2811-4ce4-92ba-b74cb9877ccc' class='xr-var-attrs-in' type='checkbox' ><label for='attrs-d12af784-2811-4ce4-92ba-b74cb9877ccc' title='Show/Hide attributes'><svg class='icon xr-icon-file-text2'><use xlink:href='#icon-file-text2'></use></svg></label><input id='data-f01b480c-6864-46fa-8b5e-7699e8d17e5f' class='xr-var-data-in' type='checkbox'><label for='data-f01b480c-6864-46fa-8b5e-7699e8d17e5f' title='Show/Hide data repr'><svg class='icon xr-icon-database'><use xlink:href='#icon-database'></use></svg></label><div class='xr-var-attrs'><dl class='xr-attrs'><dt><span>short_name :</span></dt><dd>w&#x27;kh2o&#x27;.6m</dd><dt><span>units :</span></dt><dd>m/s g/m^3</dd><dt><span>counts :</span></dt><dd>counts_6m_1</dd></dl></div><div class='xr-var-data'><pre>array([       nan,        nan,        nan, ..., 0.02208251, 0.00157872,\n",
       "       0.00785126], dtype=float32)</pre></div></li><li class='xr-var-item'><div class='xr-var-name'><span>counts_6m_1</span></div><div class='xr-var-dims'>(time)</div><div class='xr-var-dtype'>float64</div><div class='xr-var-preview xr-preview'>nan nan nan ... 9e+03 9e+03 9e+03</div><input id='attrs-b99f26d4-8309-4782-ba49-7b97563fb1b7' class='xr-var-attrs-in' type='checkbox' disabled><label for='attrs-b99f26d4-8309-4782-ba49-7b97563fb1b7' title='Show/Hide attributes'><svg class='icon xr-icon-file-text2'><use xlink:href='#icon-file-text2'></use></svg></label><input id='data-5bc6d2a7-3038-4453-86ac-63234597cd59' class='xr-var-data-in' type='checkbox'><label for='data-5bc6d2a7-3038-4453-86ac-63234597cd59' title='Show/Hide data repr'><svg class='icon xr-icon-database'><use xlink:href='#icon-database'></use></svg></label><div class='xr-var-attrs'><dl class='xr-attrs'></dl></div><div class='xr-var-data'><pre>array([  nan,   nan,   nan, ..., 9000., 9000., 9000.])</pre></div></li><li class='xr-var-item'><div class='xr-var-name'><span>kh2o_15m</span></div><div class='xr-var-dims'>(time)</div><div class='xr-var-dtype'>float32</div><div class='xr-var-preview xr-preview'>nan nan nan ... 11.77 11.46 11.29</div><input id='attrs-b9c79438-c967-4d9f-9789-effbf47cd050' class='xr-var-attrs-in' type='checkbox' ><label for='attrs-b9c79438-c967-4d9f-9789-effbf47cd050' title='Show/Hide attributes'><svg class='icon xr-icon-file-text2'><use xlink:href='#icon-file-text2'></use></svg></label><input id='data-3ea59dd5-41b4-4939-bfb7-232217b20bd9' class='xr-var-data-in' type='checkbox'><label for='data-3ea59dd5-41b4-4939-bfb7-232217b20bd9' title='Show/Hide data repr'><svg class='icon xr-icon-database'><use xlink:href='#icon-database'></use></svg></label><div class='xr-var-attrs'><dl class='xr-attrs'><dt><span>short_name :</span></dt><dd>kh2o.15m</dd><dt><span>units :</span></dt><dd>g/m^3</dd><dt><span>counts :</span></dt><dd>counts_15m_1</dd></dl></div><div class='xr-var-data'><pre>array([      nan,       nan,       nan, ..., 11.767048, 11.460736,\n",
       "       11.286783], dtype=float32)</pre></div></li><li class='xr-var-item'><div class='xr-var-name'><span>kh2o_kh2o_15m</span></div><div class='xr-var-dims'>(time)</div><div class='xr-var-dtype'>float32</div><div class='xr-var-preview xr-preview'>nan nan nan ... 0.01463 0.0245</div><input id='attrs-add17d7a-7423-4cc8-b95e-d62a1fbd3bbf' class='xr-var-attrs-in' type='checkbox' ><label for='attrs-add17d7a-7423-4cc8-b95e-d62a1fbd3bbf' title='Show/Hide attributes'><svg class='icon xr-icon-file-text2'><use xlink:href='#icon-file-text2'></use></svg></label><input id='data-915a536b-375f-4787-b150-f33002bced7f' class='xr-var-data-in' type='checkbox'><label for='data-915a536b-375f-4787-b150-f33002bced7f' title='Show/Hide data repr'><svg class='icon xr-icon-database'><use xlink:href='#icon-database'></use></svg></label><div class='xr-var-attrs'><dl class='xr-attrs'><dt><span>short_name :</span></dt><dd>kh2o&#x27;kh2o&#x27;.15m</dd><dt><span>units :</span></dt><dd>(g/m^3)^2</dd><dt><span>counts :</span></dt><dd>counts_15m_1</dd></dl></div><div class='xr-var-data'><pre>array([       nan,        nan,        nan, ..., 0.03451255, 0.01463064,\n",
       "       0.02449615], dtype=float32)</pre></div></li><li class='xr-var-item'><div class='xr-var-name'><span>u_kh2o_15m</span></div><div class='xr-var-dims'>(time)</div><div class='xr-var-dtype'>float32</div><div class='xr-var-preview xr-preview'>nan nan nan ... -0.007331 -0.02454</div><input id='attrs-bdb9fc5a-f265-4632-8c77-86c4ba34b373' class='xr-var-attrs-in' type='checkbox' ><label for='attrs-bdb9fc5a-f265-4632-8c77-86c4ba34b373' title='Show/Hide attributes'><svg class='icon xr-icon-file-text2'><use xlink:href='#icon-file-text2'></use></svg></label><input id='data-b5223384-abd1-4ac5-bc36-1a362d65007e' class='xr-var-data-in' type='checkbox'><label for='data-b5223384-abd1-4ac5-bc36-1a362d65007e' title='Show/Hide data repr'><svg class='icon xr-icon-database'><use xlink:href='#icon-database'></use></svg></label><div class='xr-var-attrs'><dl class='xr-attrs'><dt><span>short_name :</span></dt><dd>u&#x27;kh2o&#x27;.15m</dd><dt><span>units :</span></dt><dd>m/s g/m^3</dd><dt><span>counts :</span></dt><dd>counts_15m_1</dd></dl></div><div class='xr-var-data'><pre>array([        nan,         nan,         nan, ...,  0.00270313,\n",
       "       -0.0073306 , -0.02453836], dtype=float32)</pre></div></li><li class='xr-var-item'><div class='xr-var-name'><span>v_kh2o_15m</span></div><div class='xr-var-dims'>(time)</div><div class='xr-var-dtype'>float32</div><div class='xr-var-preview xr-preview'>nan nan nan ... -0.01359 0.04714</div><input id='attrs-490b8be2-784a-4822-90a3-7950f002f903' class='xr-var-attrs-in' type='checkbox' ><label for='attrs-490b8be2-784a-4822-90a3-7950f002f903' title='Show/Hide attributes'><svg class='icon xr-icon-file-text2'><use xlink:href='#icon-file-text2'></use></svg></label><input id='data-d419391c-8251-474a-864d-13f2236f2af6' class='xr-var-data-in' type='checkbox'><label for='data-d419391c-8251-474a-864d-13f2236f2af6' title='Show/Hide data repr'><svg class='icon xr-icon-database'><use xlink:href='#icon-database'></use></svg></label><div class='xr-var-attrs'><dl class='xr-attrs'><dt><span>short_name :</span></dt><dd>v&#x27;kh2o&#x27;.15m</dd><dt><span>units :</span></dt><dd>m/s g/m^3</dd><dt><span>counts :</span></dt><dd>counts_15m_1</dd></dl></div><div class='xr-var-data'><pre>array([        nan,         nan,         nan, ...,  0.02005451,\n",
       "       -0.01359301,  0.04713665], dtype=float32)</pre></div></li><li class='xr-var-item'><div class='xr-var-name'><span>w_kh2o_15m</span></div><div class='xr-var-dims'>(time)</div><div class='xr-var-dtype'>float32</div><div class='xr-var-preview xr-preview'>nan nan nan ... 0.0009066 0.01001</div><input id='attrs-a6bd763b-0fd4-4baa-ae59-b15eca70a836' class='xr-var-attrs-in' type='checkbox' ><label for='attrs-a6bd763b-0fd4-4baa-ae59-b15eca70a836' title='Show/Hide attributes'><svg class='icon xr-icon-file-text2'><use xlink:href='#icon-file-text2'></use></svg></label><input id='data-5dfe4cdc-176e-4462-a79e-4426b31b4de1' class='xr-var-data-in' type='checkbox'><label for='data-5dfe4cdc-176e-4462-a79e-4426b31b4de1' title='Show/Hide data repr'><svg class='icon xr-icon-database'><use xlink:href='#icon-database'></use></svg></label><div class='xr-var-attrs'><dl class='xr-attrs'><dt><span>short_name :</span></dt><dd>w&#x27;kh2o&#x27;.15m</dd><dt><span>units :</span></dt><dd>m/s g/m^3</dd><dt><span>counts :</span></dt><dd>counts_15m_1</dd></dl></div><div class='xr-var-data'><pre>array([       nan,        nan,        nan, ..., 0.02122859, 0.00090657,\n",
       "       0.01001286], dtype=float32)</pre></div></li><li class='xr-var-item'><div class='xr-var-name'><span>counts_15m_1</span></div><div class='xr-var-dims'>(time)</div><div class='xr-var-dtype'>float64</div><div class='xr-var-preview xr-preview'>nan nan nan ... 9e+03 9e+03</div><input id='attrs-d57efe2d-2448-4b69-8463-71b46bcad655' class='xr-var-attrs-in' type='checkbox' disabled><label for='attrs-d57efe2d-2448-4b69-8463-71b46bcad655' title='Show/Hide attributes'><svg class='icon xr-icon-file-text2'><use xlink:href='#icon-file-text2'></use></svg></label><input id='data-be1e4ad9-b5a2-49b9-b1ff-dfb61edc545e' class='xr-var-data-in' type='checkbox'><label for='data-be1e4ad9-b5a2-49b9-b1ff-dfb61edc545e' title='Show/Hide data repr'><svg class='icon xr-icon-database'><use xlink:href='#icon-database'></use></svg></label><div class='xr-var-attrs'><dl class='xr-attrs'></dl></div><div class='xr-var-data'><pre>array([  nan,   nan,   nan, ..., 9001., 9000., 9000.])</pre></div></li><li class='xr-var-item'><div class='xr-var-name'><span>uflag_25m</span></div><div class='xr-var-dims'>(time)</div><div class='xr-var-dtype'>float32</div><div class='xr-var-preview xr-preview'>nan nan nan nan ... 0.0 0.0 0.0 0.0</div><input id='attrs-e090e6ab-40f4-488c-b8da-daaec4f59156' class='xr-var-attrs-in' type='checkbox' ><label for='attrs-e090e6ab-40f4-488c-b8da-daaec4f59156' title='Show/Hide attributes'><svg class='icon xr-icon-file-text2'><use xlink:href='#icon-file-text2'></use></svg></label><input id='data-ac83fa48-49d5-4ba0-b8f8-999bf346ad5a' class='xr-var-data-in' type='checkbox'><label for='data-ac83fa48-49d5-4ba0-b8f8-999bf346ad5a' title='Show/Hide data repr'><svg class='icon xr-icon-database'><use xlink:href='#icon-database'></use></svg></label><div class='xr-var-attrs'><dl class='xr-attrs'><dt><span>short_name :</span></dt><dd>uflag.25m</dd></dl></div><div class='xr-var-data'><pre>array([nan, nan, nan, ...,  0.,  0.,  0.], dtype=float32)</pre></div></li><li class='xr-var-item'><div class='xr-var-name'><span>vflag_25m</span></div><div class='xr-var-dims'>(time)</div><div class='xr-var-dtype'>float32</div><div class='xr-var-preview xr-preview'>nan nan nan nan ... 0.0 0.0 0.0 0.0</div><input id='attrs-b1443f8e-ae9a-4f9a-af13-24c91a4f88ff' class='xr-var-attrs-in' type='checkbox' ><label for='attrs-b1443f8e-ae9a-4f9a-af13-24c91a4f88ff' title='Show/Hide attributes'><svg class='icon xr-icon-file-text2'><use xlink:href='#icon-file-text2'></use></svg></label><input id='data-d5eff341-a2a8-4f40-a8b9-e585542398c0' class='xr-var-data-in' type='checkbox'><label for='data-d5eff341-a2a8-4f40-a8b9-e585542398c0' title='Show/Hide data repr'><svg class='icon xr-icon-database'><use xlink:href='#icon-database'></use></svg></label><div class='xr-var-attrs'><dl class='xr-attrs'><dt><span>short_name :</span></dt><dd>vflag.25m</dd></dl></div><div class='xr-var-data'><pre>array([nan, nan, nan, ...,  0.,  0.,  0.], dtype=float32)</pre></div></li><li class='xr-var-item'><div class='xr-var-name'><span>wflag_25m</span></div><div class='xr-var-dims'>(time)</div><div class='xr-var-dtype'>float32</div><div class='xr-var-preview xr-preview'>nan nan nan nan ... 0.0 0.0 0.0 0.0</div><input id='attrs-5fb9cce5-dbc5-4d12-97cd-131a0d517842' class='xr-var-attrs-in' type='checkbox' ><label for='attrs-5fb9cce5-dbc5-4d12-97cd-131a0d517842' title='Show/Hide attributes'><svg class='icon xr-icon-file-text2'><use xlink:href='#icon-file-text2'></use></svg></label><input id='data-6b35c2c4-d3b1-45d0-a361-18cb15916fb0' class='xr-var-data-in' type='checkbox'><label for='data-6b35c2c4-d3b1-45d0-a361-18cb15916fb0' title='Show/Hide data repr'><svg class='icon xr-icon-database'><use xlink:href='#icon-database'></use></svg></label><div class='xr-var-attrs'><dl class='xr-attrs'><dt><span>short_name :</span></dt><dd>wflag.25m</dd></dl></div><div class='xr-var-data'><pre>array([nan, nan, nan, ...,  0.,  0.,  0.], dtype=float32)</pre></div></li><li class='xr-var-item'><div class='xr-var-name'><span>tcflag_25m</span></div><div class='xr-var-dims'>(time)</div><div class='xr-var-dtype'>float32</div><div class='xr-var-preview xr-preview'>nan nan nan nan ... 0.0 0.0 0.0 0.0</div><input id='attrs-70143878-755a-4dae-9464-7707453086e0' class='xr-var-attrs-in' type='checkbox' ><label for='attrs-70143878-755a-4dae-9464-7707453086e0' title='Show/Hide attributes'><svg class='icon xr-icon-file-text2'><use xlink:href='#icon-file-text2'></use></svg></label><input id='data-5f821392-6c31-44f7-a40d-e2732c0505ab' class='xr-var-data-in' type='checkbox'><label for='data-5f821392-6c31-44f7-a40d-e2732c0505ab' title='Show/Hide data repr'><svg class='icon xr-icon-database'><use xlink:href='#icon-database'></use></svg></label><div class='xr-var-attrs'><dl class='xr-attrs'><dt><span>short_name :</span></dt><dd>tcflag.25m</dd></dl></div><div class='xr-var-data'><pre>array([nan, nan, nan, ...,  0.,  0.,  0.], dtype=float32)</pre></div></li><li class='xr-var-item'><div class='xr-var-name'><span>diag_25m</span></div><div class='xr-var-dims'>(time)</div><div class='xr-var-dtype'>float32</div><div class='xr-var-preview xr-preview'>nan nan nan ... 0.0 0.0008889</div><input id='attrs-5aec07df-475a-4ae7-aff9-6d0c6d2f9ba2' class='xr-var-attrs-in' type='checkbox' ><label for='attrs-5aec07df-475a-4ae7-aff9-6d0c6d2f9ba2' title='Show/Hide attributes'><svg class='icon xr-icon-file-text2'><use xlink:href='#icon-file-text2'></use></svg></label><input id='data-cdc54d19-2033-4bd8-923e-adcdf332cc50' class='xr-var-data-in' type='checkbox'><label for='data-cdc54d19-2033-4bd8-923e-adcdf332cc50' title='Show/Hide data repr'><svg class='icon xr-icon-database'><use xlink:href='#icon-database'></use></svg></label><div class='xr-var-attrs'><dl class='xr-attrs'><dt><span>short_name :</span></dt><dd>diag.25m</dd></dl></div><div class='xr-var-data'><pre>array([       nan,        nan,        nan, ..., 0.00222198, 0.        ,\n",
       "       0.00088889], dtype=float32)</pre></div></li><li class='xr-var-item'><div class='xr-var-name'><span>kh2oV_25m</span></div><div class='xr-var-dims'>(time)</div><div class='xr-var-dtype'>float32</div><div class='xr-var-preview xr-preview'>nan nan nan ... 0.3213 0.3307</div><input id='attrs-7d178e27-4cb6-43d5-9c83-6305fe987464' class='xr-var-attrs-in' type='checkbox' ><label for='attrs-7d178e27-4cb6-43d5-9c83-6305fe987464' title='Show/Hide attributes'><svg class='icon xr-icon-file-text2'><use xlink:href='#icon-file-text2'></use></svg></label><input id='data-f67a6039-0b0d-4999-aff5-2a6f4827af0d' class='xr-var-data-in' type='checkbox'><label for='data-f67a6039-0b0d-4999-aff5-2a6f4827af0d' title='Show/Hide data repr'><svg class='icon xr-icon-database'><use xlink:href='#icon-database'></use></svg></label><div class='xr-var-attrs'><dl class='xr-attrs'><dt><span>short_name :</span></dt><dd>kh2oV.25m</dd><dt><span>units :</span></dt><dd>V</dd></dl></div><div class='xr-var-data'><pre>array([       nan,        nan,        nan, ..., 0.31158388, 0.32129198,\n",
       "       0.33068156], dtype=float32)</pre></div></li><li class='xr-var-item'><div class='xr-var-name'><span>u_25m</span></div><div class='xr-var-dims'>(time)</div><div class='xr-var-dtype'>float32</div><div class='xr-var-preview xr-preview'>nan nan nan ... -1.224 -0.9367</div><input id='attrs-a2044571-3769-4bae-9edd-526750163714' class='xr-var-attrs-in' type='checkbox' ><label for='attrs-a2044571-3769-4bae-9edd-526750163714' title='Show/Hide attributes'><svg class='icon xr-icon-file-text2'><use xlink:href='#icon-file-text2'></use></svg></label><input id='data-ada413fa-20c2-44c5-b55f-2703e5d38838' class='xr-var-data-in' type='checkbox'><label for='data-ada413fa-20c2-44c5-b55f-2703e5d38838' title='Show/Hide data repr'><svg class='icon xr-icon-database'><use xlink:href='#icon-database'></use></svg></label><div class='xr-var-attrs'><dl class='xr-attrs'><dt><span>short_name :</span></dt><dd>u.25m</dd><dt><span>units :</span></dt><dd>m/s</dd><dt><span>counts :</span></dt><dd>counts_25m</dd></dl></div><div class='xr-var-data'><pre>array([       nan,        nan,        nan, ..., -1.9866112, -1.2239159,\n",
       "       -0.9367307], dtype=float32)</pre></div></li><li class='xr-var-item'><div class='xr-var-name'><span>v_25m</span></div><div class='xr-var-dims'>(time)</div><div class='xr-var-dtype'>float32</div><div class='xr-var-preview xr-preview'>nan nan nan ... 1.756 1.213 0.1587</div><input id='attrs-54a23af4-c717-4454-aed8-03aa90a9c5c5' class='xr-var-attrs-in' type='checkbox' ><label for='attrs-54a23af4-c717-4454-aed8-03aa90a9c5c5' title='Show/Hide attributes'><svg class='icon xr-icon-file-text2'><use xlink:href='#icon-file-text2'></use></svg></label><input id='data-ce3bb579-31ea-4e6f-b669-b5aabb5074f5' class='xr-var-data-in' type='checkbox'><label for='data-ce3bb579-31ea-4e6f-b669-b5aabb5074f5' title='Show/Hide data repr'><svg class='icon xr-icon-database'><use xlink:href='#icon-database'></use></svg></label><div class='xr-var-attrs'><dl class='xr-attrs'><dt><span>short_name :</span></dt><dd>v.25m</dd><dt><span>units :</span></dt><dd>m/s</dd><dt><span>counts :</span></dt><dd>counts_25m</dd></dl></div><div class='xr-var-data'><pre>array([       nan,        nan,        nan, ..., 1.7559134 , 1.2129154 ,\n",
       "       0.15873781], dtype=float32)</pre></div></li><li class='xr-var-item'><div class='xr-var-name'><span>w_25m</span></div><div class='xr-var-dims'>(time)</div><div class='xr-var-dtype'>float32</div><div class='xr-var-preview xr-preview'>nan nan nan ... 0.2801 0.03172</div><input id='attrs-33068d65-11e3-4dad-b823-2091983fa5ee' class='xr-var-attrs-in' type='checkbox' ><label for='attrs-33068d65-11e3-4dad-b823-2091983fa5ee' title='Show/Hide attributes'><svg class='icon xr-icon-file-text2'><use xlink:href='#icon-file-text2'></use></svg></label><input id='data-4f922930-46c6-44b4-926b-4168fbdf8494' class='xr-var-data-in' type='checkbox'><label for='data-4f922930-46c6-44b4-926b-4168fbdf8494' title='Show/Hide data repr'><svg class='icon xr-icon-database'><use xlink:href='#icon-database'></use></svg></label><div class='xr-var-attrs'><dl class='xr-attrs'><dt><span>short_name :</span></dt><dd>w.25m</dd><dt><span>units :</span></dt><dd>m/s</dd><dt><span>counts :</span></dt><dd>counts_25m</dd></dl></div><div class='xr-var-data'><pre>array([       nan,        nan,        nan, ..., 0.2945125 , 0.28008714,\n",
       "       0.03171725], dtype=float32)</pre></div></li><li class='xr-var-item'><div class='xr-var-name'><span>tc_25m</span></div><div class='xr-var-dims'>(time)</div><div class='xr-var-dtype'>float32</div><div class='xr-var-preview xr-preview'>nan nan nan ... 8.141 8.254 8.716</div><input id='attrs-b03957c9-3d8b-46d4-bfc1-1a0eba955c69' class='xr-var-attrs-in' type='checkbox' ><label for='attrs-b03957c9-3d8b-46d4-bfc1-1a0eba955c69' title='Show/Hide attributes'><svg class='icon xr-icon-file-text2'><use xlink:href='#icon-file-text2'></use></svg></label><input id='data-b232db12-f77d-4448-b564-c48d7168b12b' class='xr-var-data-in' type='checkbox'><label for='data-b232db12-f77d-4448-b564-c48d7168b12b' title='Show/Hide data repr'><svg class='icon xr-icon-database'><use xlink:href='#icon-database'></use></svg></label><div class='xr-var-attrs'><dl class='xr-attrs'><dt><span>short_name :</span></dt><dd>tc.25m</dd><dt><span>units :</span></dt><dd>degC</dd><dt><span>counts :</span></dt><dd>counts_25m</dd></dl></div><div class='xr-var-data'><pre>array([     nan,      nan,      nan, ..., 8.141071, 8.253836, 8.71617 ],\n",
       "      dtype=float32)</pre></div></li><li class='xr-var-item'><div class='xr-var-name'><span>u_u_25m</span></div><div class='xr-var-dims'>(time)</div><div class='xr-var-dtype'>float32</div><div class='xr-var-preview xr-preview'>nan nan nan ... 0.06354 0.07506</div><input id='attrs-83cad162-22d6-4871-a0cc-8b254faee9a6' class='xr-var-attrs-in' type='checkbox' ><label for='attrs-83cad162-22d6-4871-a0cc-8b254faee9a6' title='Show/Hide attributes'><svg class='icon xr-icon-file-text2'><use xlink:href='#icon-file-text2'></use></svg></label><input id='data-2070fc95-7511-4897-b2b9-a626868861ce' class='xr-var-data-in' type='checkbox'><label for='data-2070fc95-7511-4897-b2b9-a626868861ce' title='Show/Hide data repr'><svg class='icon xr-icon-database'><use xlink:href='#icon-database'></use></svg></label><div class='xr-var-attrs'><dl class='xr-attrs'><dt><span>short_name :</span></dt><dd>u&#x27;u&#x27;.25m</dd><dt><span>units :</span></dt><dd>(m/s)^2</dd><dt><span>counts :</span></dt><dd>counts_25m</dd></dl></div><div class='xr-var-data'><pre>array([       nan,        nan,        nan, ..., 0.06241824, 0.06353913,\n",
       "       0.07505909], dtype=float32)</pre></div></li><li class='xr-var-item'><div class='xr-var-name'><span>u_v_25m</span></div><div class='xr-var-dims'>(time)</div><div class='xr-var-dtype'>float32</div><div class='xr-var-preview xr-preview'>nan nan nan ... 0.002055 -0.03372</div><input id='attrs-64a52341-d750-4138-ade7-6e43ee73b8b4' class='xr-var-attrs-in' type='checkbox' ><label for='attrs-64a52341-d750-4138-ade7-6e43ee73b8b4' title='Show/Hide attributes'><svg class='icon xr-icon-file-text2'><use xlink:href='#icon-file-text2'></use></svg></label><input id='data-b94b0555-45e0-4aea-baf0-07637685bad7' class='xr-var-data-in' type='checkbox'><label for='data-b94b0555-45e0-4aea-baf0-07637685bad7' title='Show/Hide data repr'><svg class='icon xr-icon-database'><use xlink:href='#icon-database'></use></svg></label><div class='xr-var-attrs'><dl class='xr-attrs'><dt><span>short_name :</span></dt><dd>u&#x27;v&#x27;.25m</dd><dt><span>units :</span></dt><dd>(m/s)^2</dd><dt><span>counts :</span></dt><dd>counts_25m</dd></dl></div><div class='xr-var-data'><pre>array([        nan,         nan,         nan, ..., -0.06252864,\n",
       "        0.00205472, -0.03372469], dtype=float32)</pre></div></li><li class='xr-var-item'><div class='xr-var-name'><span>u_w_25m</span></div><div class='xr-var-dims'>(time)</div><div class='xr-var-dtype'>float32</div><div class='xr-var-preview xr-preview'>nan nan nan ... 0.003302 -0.003378</div><input id='attrs-f6e06289-5ec4-45b0-b1d7-74e35779e8a6' class='xr-var-attrs-in' type='checkbox' ><label for='attrs-f6e06289-5ec4-45b0-b1d7-74e35779e8a6' title='Show/Hide attributes'><svg class='icon xr-icon-file-text2'><use xlink:href='#icon-file-text2'></use></svg></label><input id='data-f2864b04-f83b-4111-8027-48c1d023d568' class='xr-var-data-in' type='checkbox'><label for='data-f2864b04-f83b-4111-8027-48c1d023d568' title='Show/Hide data repr'><svg class='icon xr-icon-database'><use xlink:href='#icon-database'></use></svg></label><div class='xr-var-attrs'><dl class='xr-attrs'><dt><span>short_name :</span></dt><dd>u&#x27;w&#x27;.25m</dd><dt><span>units :</span></dt><dd>(m/s)^2</dd><dt><span>counts :</span></dt><dd>counts_25m</dd></dl></div><div class='xr-var-data'><pre>array([        nan,         nan,         nan, ...,  0.00116241,\n",
       "        0.00330179, -0.00337762], dtype=float32)</pre></div></li><li class='xr-var-item'><div class='xr-var-name'><span>u_tc_25m</span></div><div class='xr-var-dims'>(time)</div><div class='xr-var-dtype'>float32</div><div class='xr-var-preview xr-preview'>nan nan nan ... 0.002417 0.05118</div><input id='attrs-35fed711-7f18-4966-8ff4-f769a3ce00da' class='xr-var-attrs-in' type='checkbox' ><label for='attrs-35fed711-7f18-4966-8ff4-f769a3ce00da' title='Show/Hide attributes'><svg class='icon xr-icon-file-text2'><use xlink:href='#icon-file-text2'></use></svg></label><input id='data-675d71ae-9d27-4e00-b7e7-f54d3a860737' class='xr-var-data-in' type='checkbox'><label for='data-675d71ae-9d27-4e00-b7e7-f54d3a860737' title='Show/Hide data repr'><svg class='icon xr-icon-database'><use xlink:href='#icon-database'></use></svg></label><div class='xr-var-attrs'><dl class='xr-attrs'><dt><span>short_name :</span></dt><dd>u&#x27;tc&#x27;.25m</dd><dt><span>units :</span></dt><dd>m/s degC</dd><dt><span>counts :</span></dt><dd>counts_25m</dd></dl></div><div class='xr-var-data'><pre>array([       nan,        nan,        nan, ..., 0.01141812, 0.00241694,\n",
       "       0.05118022], dtype=float32)</pre></div></li><li class='xr-var-item'><div class='xr-var-name'><span>v_v_25m</span></div><div class='xr-var-dims'>(time)</div><div class='xr-var-dtype'>float32</div><div class='xr-var-preview xr-preview'>nan nan nan ... 0.07387 0.1655</div><input id='attrs-d01584a1-7e97-4c79-aed0-91e4236261f5' class='xr-var-attrs-in' type='checkbox' ><label for='attrs-d01584a1-7e97-4c79-aed0-91e4236261f5' title='Show/Hide attributes'><svg class='icon xr-icon-file-text2'><use xlink:href='#icon-file-text2'></use></svg></label><input id='data-2a8d777a-3a3a-4091-b3e0-22bca3ba3826' class='xr-var-data-in' type='checkbox'><label for='data-2a8d777a-3a3a-4091-b3e0-22bca3ba3826' title='Show/Hide data repr'><svg class='icon xr-icon-database'><use xlink:href='#icon-database'></use></svg></label><div class='xr-var-attrs'><dl class='xr-attrs'><dt><span>short_name :</span></dt><dd>v&#x27;v&#x27;.25m</dd><dt><span>units :</span></dt><dd>(m/s)^2</dd><dt><span>counts :</span></dt><dd>counts_25m</dd></dl></div><div class='xr-var-data'><pre>array([       nan,        nan,        nan, ..., 0.19963661, 0.07386874,\n",
       "       0.16545767], dtype=float32)</pre></div></li><li class='xr-var-item'><div class='xr-var-name'><span>v_w_25m</span></div><div class='xr-var-dims'>(time)</div><div class='xr-var-dtype'>float32</div><div class='xr-var-preview xr-preview'>nan nan nan ... -0.001131 0.0576</div><input id='attrs-90a85e36-6a76-4edb-ade2-174bc9518908' class='xr-var-attrs-in' type='checkbox' ><label for='attrs-90a85e36-6a76-4edb-ade2-174bc9518908' title='Show/Hide attributes'><svg class='icon xr-icon-file-text2'><use xlink:href='#icon-file-text2'></use></svg></label><input id='data-5f26041f-e4f4-4684-9494-aa0b133bddb3' class='xr-var-data-in' type='checkbox'><label for='data-5f26041f-e4f4-4684-9494-aa0b133bddb3' title='Show/Hide data repr'><svg class='icon xr-icon-database'><use xlink:href='#icon-database'></use></svg></label><div class='xr-var-attrs'><dl class='xr-attrs'><dt><span>short_name :</span></dt><dd>v&#x27;w&#x27;.25m</dd><dt><span>units :</span></dt><dd>(m/s)^2</dd><dt><span>counts :</span></dt><dd>counts_25m</dd></dl></div><div class='xr-var-data'><pre>array([        nan,         nan,         nan, ...,  0.02627498,\n",
       "       -0.00113061,  0.05760274], dtype=float32)</pre></div></li><li class='xr-var-item'><div class='xr-var-name'><span>v_tc_25m</span></div><div class='xr-var-dims'>(time)</div><div class='xr-var-dtype'>float32</div><div class='xr-var-preview xr-preview'>nan nan nan ... -0.01781 -0.04049</div><input id='attrs-0ba2166f-51b4-4840-a6c0-e0e33fc563b4' class='xr-var-attrs-in' type='checkbox' ><label for='attrs-0ba2166f-51b4-4840-a6c0-e0e33fc563b4' title='Show/Hide attributes'><svg class='icon xr-icon-file-text2'><use xlink:href='#icon-file-text2'></use></svg></label><input id='data-5aed01be-6d78-4307-bc38-fc4bd42bfa9d' class='xr-var-data-in' type='checkbox'><label for='data-5aed01be-6d78-4307-bc38-fc4bd42bfa9d' title='Show/Hide data repr'><svg class='icon xr-icon-database'><use xlink:href='#icon-database'></use></svg></label><div class='xr-var-attrs'><dl class='xr-attrs'><dt><span>short_name :</span></dt><dd>v&#x27;tc&#x27;.25m</dd><dt><span>units :</span></dt><dd>m/s degC</dd><dt><span>counts :</span></dt><dd>counts_25m</dd></dl></div><div class='xr-var-data'><pre>array([        nan,         nan,         nan, ..., -0.01782443,\n",
       "       -0.01780656, -0.04049347], dtype=float32)</pre></div></li><li class='xr-var-item'><div class='xr-var-name'><span>w_w_25m</span></div><div class='xr-var-dims'>(time)</div><div class='xr-var-dtype'>float32</div><div class='xr-var-preview xr-preview'>nan nan nan ... 0.07369 0.07614</div><input id='attrs-b02a4cd0-4a36-4471-a4e6-9266cab299b4' class='xr-var-attrs-in' type='checkbox' ><label for='attrs-b02a4cd0-4a36-4471-a4e6-9266cab299b4' title='Show/Hide attributes'><svg class='icon xr-icon-file-text2'><use xlink:href='#icon-file-text2'></use></svg></label><input id='data-1ef9bd79-0f3d-4280-a107-570ccf471265' class='xr-var-data-in' type='checkbox'><label for='data-1ef9bd79-0f3d-4280-a107-570ccf471265' title='Show/Hide data repr'><svg class='icon xr-icon-database'><use xlink:href='#icon-database'></use></svg></label><div class='xr-var-attrs'><dl class='xr-attrs'><dt><span>short_name :</span></dt><dd>w&#x27;w&#x27;.25m</dd><dt><span>units :</span></dt><dd>(m/s)^2</dd><dt><span>counts :</span></dt><dd>counts_25m</dd></dl></div><div class='xr-var-data'><pre>array([       nan,        nan,        nan, ..., 0.03108562, 0.07369021,\n",
       "       0.07614467], dtype=float32)</pre></div></li><li class='xr-var-item'><div class='xr-var-name'><span>w_tc_25m</span></div><div class='xr-var-dims'>(time)</div><div class='xr-var-dtype'>float32</div><div class='xr-var-preview xr-preview'>nan nan nan ... 0.02636 0.00731</div><input id='attrs-6702f2e8-a19c-46b6-b871-67dd535a787c' class='xr-var-attrs-in' type='checkbox' ><label for='attrs-6702f2e8-a19c-46b6-b871-67dd535a787c' title='Show/Hide attributes'><svg class='icon xr-icon-file-text2'><use xlink:href='#icon-file-text2'></use></svg></label><input id='data-eb2664c9-8e7d-4cc8-ac62-6eb8ce35e150' class='xr-var-data-in' type='checkbox'><label for='data-eb2664c9-8e7d-4cc8-ac62-6eb8ce35e150' title='Show/Hide data repr'><svg class='icon xr-icon-database'><use xlink:href='#icon-database'></use></svg></label><div class='xr-var-attrs'><dl class='xr-attrs'><dt><span>short_name :</span></dt><dd>w&#x27;tc&#x27;.25m</dd><dt><span>units :</span></dt><dd>m/s degC</dd><dt><span>counts :</span></dt><dd>counts_25m</dd></dl></div><div class='xr-var-data'><pre>array([       nan,        nan,        nan, ..., 0.00806633, 0.02635847,\n",
       "       0.00731039], dtype=float32)</pre></div></li><li class='xr-var-item'><div class='xr-var-name'><span>tc_tc_25m</span></div><div class='xr-var-dims'>(time)</div><div class='xr-var-dtype'>float32</div><div class='xr-var-preview xr-preview'>nan nan nan ... 0.02797 0.08691</div><input id='attrs-0aeee4b2-a42a-4d09-aa28-356a96e8f44b' class='xr-var-attrs-in' type='checkbox' ><label for='attrs-0aeee4b2-a42a-4d09-aa28-356a96e8f44b' title='Show/Hide attributes'><svg class='icon xr-icon-file-text2'><use xlink:href='#icon-file-text2'></use></svg></label><input id='data-b4d38bef-a75d-4a94-805a-2e70d8b94de3' class='xr-var-data-in' type='checkbox'><label for='data-b4d38bef-a75d-4a94-805a-2e70d8b94de3' title='Show/Hide data repr'><svg class='icon xr-icon-database'><use xlink:href='#icon-database'></use></svg></label><div class='xr-var-attrs'><dl class='xr-attrs'><dt><span>short_name :</span></dt><dd>tc&#x27;tc&#x27;.25m</dd><dt><span>units :</span></dt><dd>(degC)^2</dd><dt><span>counts :</span></dt><dd>counts_25m</dd></dl></div><div class='xr-var-data'><pre>array([       nan,        nan,        nan, ..., 0.01585889, 0.02797052,\n",
       "       0.08690503], dtype=float32)</pre></div></li><li class='xr-var-item'><div class='xr-var-name'><span>counts_25m</span></div><div class='xr-var-dims'>(time)</div><div class='xr-var-dtype'>float64</div><div class='xr-var-preview xr-preview'>nan nan nan ... 9e+03 9e+03</div><input id='attrs-d8ad0f57-ff9d-426d-8071-093140cfbd48' class='xr-var-attrs-in' type='checkbox' disabled><label for='attrs-d8ad0f57-ff9d-426d-8071-093140cfbd48' title='Show/Hide attributes'><svg class='icon xr-icon-file-text2'><use xlink:href='#icon-file-text2'></use></svg></label><input id='data-e7ac882e-e906-4b76-9b8d-46d863f9069c' class='xr-var-data-in' type='checkbox'><label for='data-e7ac882e-e906-4b76-9b8d-46d863f9069c' title='Show/Hide data repr'><svg class='icon xr-icon-database'><use xlink:href='#icon-database'></use></svg></label><div class='xr-var-attrs'><dl class='xr-attrs'></dl></div><div class='xr-var-data'><pre>array([  nan,   nan,   nan, ..., 9001., 9000., 9000.])</pre></div></li><li class='xr-var-item'><div class='xr-var-name'><span>kh2o_25m</span></div><div class='xr-var-dims'>(time)</div><div class='xr-var-dtype'>float32</div><div class='xr-var-preview xr-preview'>nan nan nan ... 7.616 7.46 7.315</div><input id='attrs-eba5d4b9-034a-4766-b540-59313dc66880' class='xr-var-attrs-in' type='checkbox' ><label for='attrs-eba5d4b9-034a-4766-b540-59313dc66880' title='Show/Hide attributes'><svg class='icon xr-icon-file-text2'><use xlink:href='#icon-file-text2'></use></svg></label><input id='data-2e3ef68c-e7b5-4809-bc7e-6161a9b433ef' class='xr-var-data-in' type='checkbox'><label for='data-2e3ef68c-e7b5-4809-bc7e-6161a9b433ef' title='Show/Hide data repr'><svg class='icon xr-icon-database'><use xlink:href='#icon-database'></use></svg></label><div class='xr-var-attrs'><dl class='xr-attrs'><dt><span>short_name :</span></dt><dd>kh2o.25m</dd><dt><span>units :</span></dt><dd>g/m^3</dd><dt><span>counts :</span></dt><dd>counts_25m_1</dd></dl></div><div class='xr-var-data'><pre>array([      nan,       nan,       nan, ..., 7.6161795, 7.459931 ,\n",
       "       7.314719 ], dtype=float32)</pre></div></li><li class='xr-var-item'><div class='xr-var-name'><span>kh2o_kh2o_25m</span></div><div class='xr-var-dims'>(time)</div><div class='xr-var-dtype'>float32</div><div class='xr-var-preview xr-preview'>nan nan nan ... 0.01064 0.01648</div><input id='attrs-3274aec8-4eee-40d6-8ccd-61b014da85fa' class='xr-var-attrs-in' type='checkbox' ><label for='attrs-3274aec8-4eee-40d6-8ccd-61b014da85fa' title='Show/Hide attributes'><svg class='icon xr-icon-file-text2'><use xlink:href='#icon-file-text2'></use></svg></label><input id='data-b18923e4-cc06-4e57-93c2-e767ec8c61c3' class='xr-var-data-in' type='checkbox'><label for='data-b18923e4-cc06-4e57-93c2-e767ec8c61c3' title='Show/Hide data repr'><svg class='icon xr-icon-database'><use xlink:href='#icon-database'></use></svg></label><div class='xr-var-attrs'><dl class='xr-attrs'><dt><span>short_name :</span></dt><dd>kh2o&#x27;kh2o&#x27;.25m</dd><dt><span>units :</span></dt><dd>(g/m^3)^2</dd><dt><span>counts :</span></dt><dd>counts_25m_1</dd></dl></div><div class='xr-var-data'><pre>array([       nan,        nan,        nan, ..., 0.0205285 , 0.01064137,\n",
       "       0.01647704], dtype=float32)</pre></div></li><li class='xr-var-item'><div class='xr-var-name'><span>u_kh2o_25m</span></div><div class='xr-var-dims'>(time)</div><div class='xr-var-dtype'>float32</div><div class='xr-var-preview xr-preview'>nan nan nan ... -0.004073 -0.01392</div><input id='attrs-194638b1-6dd0-45cd-bff6-f16ae66ec4d5' class='xr-var-attrs-in' type='checkbox' ><label for='attrs-194638b1-6dd0-45cd-bff6-f16ae66ec4d5' title='Show/Hide attributes'><svg class='icon xr-icon-file-text2'><use xlink:href='#icon-file-text2'></use></svg></label><input id='data-919d2d6d-ae94-4a28-97bd-59560c20514a' class='xr-var-data-in' type='checkbox'><label for='data-919d2d6d-ae94-4a28-97bd-59560c20514a' title='Show/Hide data repr'><svg class='icon xr-icon-database'><use xlink:href='#icon-database'></use></svg></label><div class='xr-var-attrs'><dl class='xr-attrs'><dt><span>short_name :</span></dt><dd>u&#x27;kh2o&#x27;.25m</dd><dt><span>units :</span></dt><dd>m/s g/m^3</dd><dt><span>counts :</span></dt><dd>counts_25m_1</dd></dl></div><div class='xr-var-data'><pre>array([        nan,         nan,         nan, ...,  0.00180461,\n",
       "       -0.00407277, -0.01392471], dtype=float32)</pre></div></li><li class='xr-var-item'><div class='xr-var-name'><span>v_kh2o_25m</span></div><div class='xr-var-dims'>(time)</div><div class='xr-var-dtype'>float32</div><div class='xr-var-preview xr-preview'>nan nan nan ... -0.008945 0.03787</div><input id='attrs-5b93dbd3-3441-451d-b8a4-f09e955a2e9d' class='xr-var-attrs-in' type='checkbox' ><label for='attrs-5b93dbd3-3441-451d-b8a4-f09e955a2e9d' title='Show/Hide attributes'><svg class='icon xr-icon-file-text2'><use xlink:href='#icon-file-text2'></use></svg></label><input id='data-bac322c7-3975-400f-97bf-8d5ed35e3059' class='xr-var-data-in' type='checkbox'><label for='data-bac322c7-3975-400f-97bf-8d5ed35e3059' title='Show/Hide data repr'><svg class='icon xr-icon-database'><use xlink:href='#icon-database'></use></svg></label><div class='xr-var-attrs'><dl class='xr-attrs'><dt><span>short_name :</span></dt><dd>v&#x27;kh2o&#x27;.25m</dd><dt><span>units :</span></dt><dd>m/s g/m^3</dd><dt><span>counts :</span></dt><dd>counts_25m_1</dd></dl></div><div class='xr-var-data'><pre>array([        nan,         nan,         nan, ...,  0.01132048,\n",
       "       -0.00894533,  0.03786909], dtype=float32)</pre></div></li><li class='xr-var-item'><div class='xr-var-name'><span>w_kh2o_25m</span></div><div class='xr-var-dims'>(time)</div><div class='xr-var-dtype'>float32</div><div class='xr-var-preview xr-preview'>nan nan nan ... 0.009997 0.02165</div><input id='attrs-a51a092b-a72d-4e82-a4aa-44ecd18dd553' class='xr-var-attrs-in' type='checkbox' ><label for='attrs-a51a092b-a72d-4e82-a4aa-44ecd18dd553' title='Show/Hide attributes'><svg class='icon xr-icon-file-text2'><use xlink:href='#icon-file-text2'></use></svg></label><input id='data-372f6ad3-1a60-4085-9b88-272da702ce63' class='xr-var-data-in' type='checkbox'><label for='data-372f6ad3-1a60-4085-9b88-272da702ce63' title='Show/Hide data repr'><svg class='icon xr-icon-database'><use xlink:href='#icon-database'></use></svg></label><div class='xr-var-attrs'><dl class='xr-attrs'><dt><span>short_name :</span></dt><dd>w&#x27;kh2o&#x27;.25m</dd><dt><span>units :</span></dt><dd>m/s g/m^3</dd><dt><span>counts :</span></dt><dd>counts_25m_1</dd></dl></div><div class='xr-var-data'><pre>array([       nan,        nan,        nan, ..., 0.0153937 , 0.00999723,\n",
       "       0.02164792], dtype=float32)</pre></div></li><li class='xr-var-item'><div class='xr-var-name'><span>counts_25m_1</span></div><div class='xr-var-dims'>(time)</div><div class='xr-var-dtype'>float64</div><div class='xr-var-preview xr-preview'>nan nan nan ... 9e+03 9e+03</div><input id='attrs-7d1dd896-f004-43d9-b449-879cbab2bc40' class='xr-var-attrs-in' type='checkbox' disabled><label for='attrs-7d1dd896-f004-43d9-b449-879cbab2bc40' title='Show/Hide attributes'><svg class='icon xr-icon-file-text2'><use xlink:href='#icon-file-text2'></use></svg></label><input id='data-32a78cff-9ea1-4502-b6bf-8e56c9e1e961' class='xr-var-data-in' type='checkbox'><label for='data-32a78cff-9ea1-4502-b6bf-8e56c9e1e961' title='Show/Hide data repr'><svg class='icon xr-icon-database'><use xlink:href='#icon-database'></use></svg></label><div class='xr-var-attrs'><dl class='xr-attrs'></dl></div><div class='xr-var-data'><pre>array([  nan,   nan,   nan, ..., 9001., 9000., 9000.])</pre></div></li><li class='xr-var-item'><div class='xr-var-name'><span>Dir_10m</span></div><div class='xr-var-dims'>(time)</div><div class='xr-var-dtype'>float32</div><div class='xr-var-preview xr-preview'>nan nan nan ... 291.1 301.9 312.8</div><input id='attrs-6a5fb6cb-c8dc-4fe7-9805-a659411a7541' class='xr-var-attrs-in' type='checkbox' ><label for='attrs-6a5fb6cb-c8dc-4fe7-9805-a659411a7541' title='Show/Hide attributes'><svg class='icon xr-icon-file-text2'><use xlink:href='#icon-file-text2'></use></svg></label><input id='data-e3bdfb36-8438-4f1e-905b-8cd04ae2cfe5' class='xr-var-data-in' type='checkbox'><label for='data-e3bdfb36-8438-4f1e-905b-8cd04ae2cfe5' title='Show/Hide data repr'><svg class='icon xr-icon-database'><use xlink:href='#icon-database'></use></svg></label><div class='xr-var-attrs'><dl class='xr-attrs'><dt><span>short_name :</span></dt><dd>Dir.10m</dd><dt><span>units :</span></dt><dd>deg</dd></dl></div><div class='xr-var-data'><pre>array([      nan,       nan,       nan, ..., 291.08334, 301.91666,\n",
       "       312.75   ], dtype=float32)</pre></div></li><li class='xr-var-item'><div class='xr-var-name'><span>Spd_10m</span></div><div class='xr-var-dims'>(time)</div><div class='xr-var-dtype'>float32</div><div class='xr-var-preview xr-preview'>nan nan nan ... 1.308 1.392 1.475</div><input id='attrs-d19b1d0e-a044-4375-a745-bb7717862fbd' class='xr-var-attrs-in' type='checkbox' ><label for='attrs-d19b1d0e-a044-4375-a745-bb7717862fbd' title='Show/Hide attributes'><svg class='icon xr-icon-file-text2'><use xlink:href='#icon-file-text2'></use></svg></label><input id='data-20537409-e1bb-4a0a-9faf-4e39b1bf4540' class='xr-var-data-in' type='checkbox'><label for='data-20537409-e1bb-4a0a-9faf-4e39b1bf4540' title='Show/Hide data repr'><svg class='icon xr-icon-database'><use xlink:href='#icon-database'></use></svg></label><div class='xr-var-attrs'><dl class='xr-attrs'><dt><span>short_name :</span></dt><dd>Spd.10m</dd><dt><span>units :</span></dt><dd>m/s</dd></dl></div><div class='xr-var-data'><pre>array([      nan,       nan,       nan, ..., 1.3083333, 1.3916667,\n",
       "       1.475    ], dtype=float32)</pre></div></li><li class='xr-var-item'><div class='xr-var-name'><span>P_2m</span></div><div class='xr-var-dims'>(time)</div><div class='xr-var-dtype'>float32</div><div class='xr-var-preview xr-preview'>nan nan nan ... 681.6 681.7 681.7</div><input id='attrs-1c325911-5d09-48b3-8692-0d883df153f9' class='xr-var-attrs-in' type='checkbox' ><label for='attrs-1c325911-5d09-48b3-8692-0d883df153f9' title='Show/Hide attributes'><svg class='icon xr-icon-file-text2'><use xlink:href='#icon-file-text2'></use></svg></label><input id='data-4803befa-d3e1-49ce-b418-afc0b9c22d37' class='xr-var-data-in' type='checkbox'><label for='data-4803befa-d3e1-49ce-b418-afc0b9c22d37' title='Show/Hide data repr'><svg class='icon xr-icon-database'><use xlink:href='#icon-database'></use></svg></label><div class='xr-var-attrs'><dl class='xr-attrs'><dt><span>short_name :</span></dt><dd>P.2m</dd><dt><span>units :</span></dt><dd>mb</dd></dl></div><div class='xr-var-data'><pre>array([      nan,       nan,       nan, ..., 681.64166, 681.6583 ,\n",
       "       681.675  ], dtype=float32)</pre></div></li><li class='xr-var-item'><div class='xr-var-name'><span>T_2m</span></div><div class='xr-var-dims'>(time)</div><div class='xr-var-dtype'>float32</div><div class='xr-var-preview xr-preview'>nan nan nan ... 10.18 10.27 10.36</div><input id='attrs-52ae5f19-7fd5-4630-ac32-4c29f75730c0' class='xr-var-attrs-in' type='checkbox' ><label for='attrs-52ae5f19-7fd5-4630-ac32-4c29f75730c0' title='Show/Hide attributes'><svg class='icon xr-icon-file-text2'><use xlink:href='#icon-file-text2'></use></svg></label><input id='data-808087dd-a534-4803-899d-47ec439b8533' class='xr-var-data-in' type='checkbox'><label for='data-808087dd-a534-4803-899d-47ec439b8533' title='Show/Hide data repr'><svg class='icon xr-icon-database'><use xlink:href='#icon-database'></use></svg></label><div class='xr-var-attrs'><dl class='xr-attrs'><dt><span>short_name :</span></dt><dd>T.2m</dd><dt><span>units :</span></dt><dd>degC</dd></dl></div><div class='xr-var-data'><pre>array([      nan,       nan,       nan, ..., 10.179167, 10.270833,\n",
       "       10.3625  ], dtype=float32)</pre></div></li><li class='xr-var-item'><div class='xr-var-name'><span>RH_2m</span></div><div class='xr-var-dims'>(time)</div><div class='xr-var-dtype'>float32</div><div class='xr-var-preview xr-preview'>nan nan nan ... 39.97 40.29 40.61</div><input id='attrs-b2e0d880-cbc2-4ace-8ba4-17ce4d0fc507' class='xr-var-attrs-in' type='checkbox' ><label for='attrs-b2e0d880-cbc2-4ace-8ba4-17ce4d0fc507' title='Show/Hide attributes'><svg class='icon xr-icon-file-text2'><use xlink:href='#icon-file-text2'></use></svg></label><input id='data-11fa783b-354c-4a6c-879a-206bfbb620af' class='xr-var-data-in' type='checkbox'><label for='data-11fa783b-354c-4a6c-879a-206bfbb620af' title='Show/Hide data repr'><svg class='icon xr-icon-database'><use xlink:href='#icon-database'></use></svg></label><div class='xr-var-attrs'><dl class='xr-attrs'><dt><span>short_name :</span></dt><dd>RH.2m</dd><dt><span>units :</span></dt><dd>%</dd></dl></div><div class='xr-var-data'><pre>array([      nan,       nan,       nan, ..., 39.97373 , 40.293922,\n",
       "       40.614117], dtype=float32)</pre></div></li><li class='xr-var-item'><div class='xr-var-name'><span>Tdew_2m</span></div><div class='xr-var-dims'>(time)</div><div class='xr-var-dtype'>float32</div><div class='xr-var-preview xr-preview'>nan nan nan ... -2.579 -2.388</div><input id='attrs-9ef7fb9b-28c3-4416-b424-3add8a705901' class='xr-var-attrs-in' type='checkbox' ><label for='attrs-9ef7fb9b-28c3-4416-b424-3add8a705901' title='Show/Hide attributes'><svg class='icon xr-icon-file-text2'><use xlink:href='#icon-file-text2'></use></svg></label><input id='data-daceaaf0-d859-48f4-8c3d-70f78c11588e' class='xr-var-data-in' type='checkbox'><label for='data-daceaaf0-d859-48f4-8c3d-70f78c11588e' title='Show/Hide data repr'><svg class='icon xr-icon-database'><use xlink:href='#icon-database'></use></svg></label><div class='xr-var-attrs'><dl class='xr-attrs'><dt><span>short_name :</span></dt><dd>Tdew.2m</dd><dt><span>units :</span></dt><dd>degC</dd></dl></div><div class='xr-var-data'><pre>array([       nan,        nan,        nan, ..., -2.7708333, -2.5791667,\n",
       "       -2.3875   ], dtype=float32)</pre></div></li><li class='xr-var-item'><div class='xr-var-name'><span>Cn2_6m</span></div><div class='xr-var-dims'>(time)</div><div class='xr-var-dtype'>float32</div><div class='xr-var-preview xr-preview'>nan nan nan nan ... nan nan nan nan</div><input id='attrs-3b110348-956a-4168-accb-0a7c75092389' class='xr-var-attrs-in' type='checkbox' ><label for='attrs-3b110348-956a-4168-accb-0a7c75092389' title='Show/Hide attributes'><svg class='icon xr-icon-file-text2'><use xlink:href='#icon-file-text2'></use></svg></label><input id='data-1fa4325a-0c09-4dc1-8fbe-6e26d51c5f96' class='xr-var-data-in' type='checkbox'><label for='data-1fa4325a-0c09-4dc1-8fbe-6e26d51c5f96' title='Show/Hide data repr'><svg class='icon xr-icon-database'><use xlink:href='#icon-database'></use></svg></label><div class='xr-var-attrs'><dl class='xr-attrs'><dt><span>short_name :</span></dt><dd>Cn2.6m</dd></dl></div><div class='xr-var-data'><pre>array([nan, nan, nan, ..., nan, nan, nan], dtype=float32)</pre></div></li><li class='xr-var-item'><div class='xr-var-name'><span>Cn2_15m</span></div><div class='xr-var-dims'>(time)</div><div class='xr-var-dtype'>float32</div><div class='xr-var-preview xr-preview'>nan nan nan nan ... nan nan nan nan</div><input id='attrs-661791f5-0997-4a20-b300-52470e6f6cdd' class='xr-var-attrs-in' type='checkbox' ><label for='attrs-661791f5-0997-4a20-b300-52470e6f6cdd' title='Show/Hide attributes'><svg class='icon xr-icon-file-text2'><use xlink:href='#icon-file-text2'></use></svg></label><input id='data-4676e9f3-bfc0-4d4b-8fc1-9f923cab6cc6' class='xr-var-data-in' type='checkbox'><label for='data-4676e9f3-bfc0-4d4b-8fc1-9f923cab6cc6' title='Show/Hide data repr'><svg class='icon xr-icon-database'><use xlink:href='#icon-database'></use></svg></label><div class='xr-var-attrs'><dl class='xr-attrs'><dt><span>short_name :</span></dt><dd>Cn2.15m</dd></dl></div><div class='xr-var-data'><pre>array([nan, nan, nan, ..., nan, nan, nan], dtype=float32)</pre></div></li><li class='xr-var-item'><div class='xr-var-name'><span>Cn2_25m</span></div><div class='xr-var-dims'>(time)</div><div class='xr-var-dtype'>float32</div><div class='xr-var-preview xr-preview'>nan nan nan nan ... nan nan nan nan</div><input id='attrs-5cdfb71c-1022-4724-9e85-1bf4f7a8479c' class='xr-var-attrs-in' type='checkbox' ><label for='attrs-5cdfb71c-1022-4724-9e85-1bf4f7a8479c' title='Show/Hide attributes'><svg class='icon xr-icon-file-text2'><use xlink:href='#icon-file-text2'></use></svg></label><input id='data-2eac962f-981f-4e43-913f-8b7857e3460b' class='xr-var-data-in' type='checkbox'><label for='data-2eac962f-981f-4e43-913f-8b7857e3460b' title='Show/Hide data repr'><svg class='icon xr-icon-database'><use xlink:href='#icon-database'></use></svg></label><div class='xr-var-attrs'><dl class='xr-attrs'><dt><span>short_name :</span></dt><dd>Cn2.25m</dd></dl></div><div class='xr-var-data'><pre>array([nan, nan, nan, ..., nan, nan, nan], dtype=float32)</pre></div></li></ul></div></li><li class='xr-section-item'><input id='section-704a5fad-3dc5-4235-bda5-77913679ad8d' class='xr-section-summary-in' type='checkbox'  ><label for='section-704a5fad-3dc5-4235-bda5-77913679ad8d' class='xr-section-summary' >Indexes: <span>(1)</span></label><div class='xr-section-inline-details'></div><div class='xr-section-details'><ul class='xr-var-list'><li class='xr-var-item'><div class='xr-index-name'><div>time</div></div><div class='xr-index-preview'>PandasIndex</div><div></div><input id='index-645bf070-cbff-4506-b159-eb0d5ad355fa' class='xr-index-data-in' type='checkbox'/><label for='index-645bf070-cbff-4506-b159-eb0d5ad355fa' title='Show/Hide index repr'><svg class='icon xr-icon-database'><use xlink:href='#icon-database'></use></svg></label><div class='xr-index-data'><pre>PandasIndex(DatetimeIndex([&#x27;2006-06-09 00:02:30&#x27;, &#x27;2006-06-09 00:07:30&#x27;,\n",
       "               &#x27;2006-06-09 00:12:30&#x27;, &#x27;2006-06-09 00:17:30&#x27;,\n",
       "               &#x27;2006-06-09 00:22:30&#x27;, &#x27;2006-06-09 00:27:30&#x27;,\n",
       "               &#x27;2006-06-09 00:32:30&#x27;, &#x27;2006-06-09 00:37:30&#x27;,\n",
       "               &#x27;2006-06-09 00:42:30&#x27;, &#x27;2006-06-09 00:47:30&#x27;,\n",
       "               ...\n",
       "               &#x27;2006-08-08 17:07:30&#x27;, &#x27;2006-08-08 17:12:30&#x27;,\n",
       "               &#x27;2006-08-08 17:17:30&#x27;, &#x27;2006-08-08 17:22:30&#x27;,\n",
       "               &#x27;2006-08-08 17:27:30&#x27;, &#x27;2006-08-08 17:32:30&#x27;,\n",
       "               &#x27;2006-08-08 17:37:30&#x27;, &#x27;2006-08-08 17:42:30&#x27;,\n",
       "               &#x27;2006-08-08 17:47:30&#x27;, &#x27;2006-08-08 17:52:30&#x27;],\n",
       "              dtype=&#x27;datetime64[ns]&#x27;, name=&#x27;time&#x27;, length=14038, freq=None))</pre></div></li></ul></div></li><li class='xr-section-item'><input id='section-afbc6a6b-3721-478b-875d-c61b61e5fab9' class='xr-section-summary-in' type='checkbox'  checked><label for='section-afbc6a6b-3721-478b-875d-c61b61e5fab9' class='xr-section-summary' >Attributes: <span>(2)</span></label><div class='xr-section-inline-details'></div><div class='xr-section-details'><dl class='xr-attrs'><dt><span>history :</span></dt><dd>Sun Dec 10 08:04:04 2006: ncrename -v RH,RH_2m isff_20060609.nc\n",
       "Sun Dec 10 08:04:04 2006: ncrename -v Tdew,Tdew_2m isff_20060609.nc\n",
       "Sun Dec 10 08:04:04 2006: ncrename -v T,T_2m isff_20060609.nc\n",
       "Sun Dec 10 08:04:04 2006: ncrename -v P,P_2m isff_20060609.nc\n",
       "Sun Dec 10 08:04:04 2006: ncrename -v Spd,Spd_10m isff_20060609.nc\n",
       "Sun Dec 10 08:04:04 2006: ncrename -v Dir,Dir_10m isff_20060609.nc\n",
       "Created: Mon Oct 30 16:26:41 2006\n",
       "Updated: Wed Nov  1 07:51:39 2006\n",
       "met variables from 1 hour ascii .dwr data\n",
       "Updated: Sun Dec 10 15:06:28 2006\n",
       "Cn2 edited when abs(samples.sonic-9000)&gt;5\n",
       "</dd><dt><span>nco_openmp_thread_number :</span></dt><dd>1</dd></dl></div></li></ul></div></div>"
      ],
      "text/plain": [
       "<xarray.Dataset>\n",
       "Dimensions:        (time: 14038)\n",
       "Coordinates:\n",
       "  * time           (time) datetime64[ns] 2006-06-09T00:02:30 ... 2006-08-08T1...\n",
       "Data variables: (12/91)\n",
       "    base_time      datetime64[ns] 2006-06-09\n",
       "    uflag_6m       (time) float32 nan nan nan nan nan ... 0.0 0.0 0.0 0.0 0.0\n",
       "    vflag_6m       (time) float32 nan nan nan nan nan ... 0.0 0.0 0.0 0.0 0.0\n",
       "    wflag_6m       (time) float32 nan nan nan nan nan ... 0.0 0.0 0.0 0.0 0.0\n",
       "    tcflag_6m      (time) float32 nan nan nan nan nan ... 0.0 0.0 0.0 0.0 0.0\n",
       "    diag_6m        (time) float32 nan nan nan nan ... 0.0 0.0004444 0.0\n",
       "    ...             ...\n",
       "    T_2m           (time) float32 nan nan nan nan ... 10.09 10.18 10.27 10.36\n",
       "    RH_2m          (time) float32 nan nan nan nan ... 39.65 39.97 40.29 40.61\n",
       "    Tdew_2m        (time) float32 nan nan nan nan ... -2.771 -2.579 -2.388\n",
       "    Cn2_6m         (time) float32 nan nan nan nan nan ... nan nan nan nan nan\n",
       "    Cn2_15m        (time) float32 nan nan nan nan nan ... nan nan nan nan nan\n",
       "    Cn2_25m        (time) float32 nan nan nan nan nan ... nan nan nan nan nan\n",
       "Attributes:\n",
       "    history:                   Sun Dec 10 08:04:04 2006: ncrename -v RH,RH_2m...\n",
       "    nco_openmp_thread_number:  1"
      ]
     },
     "execution_count": 15,
     "metadata": {},
     "output_type": "execute_result"
    }
   ],
   "source": [
    "ds"
   ]
  },
  {
   "cell_type": "code",
   "execution_count": null,
   "metadata": {},
   "outputs": [],
   "source": []
  }
 ],
 "metadata": {
  "kernelspec": {
   "display_name": "Python 3",
   "language": "python",
   "name": "python3"
  },
  "language_info": {
   "codemirror_mode": {
    "name": "ipython",
    "version": 3
   },
   "file_extension": ".py",
   "mimetype": "text/x-python",
   "name": "python",
   "nbconvert_exporter": "python",
   "pygments_lexer": "ipython3",
   "version": "3.10.6"
  },
  "orig_nbformat": 4
 },
 "nbformat": 4,
 "nbformat_minor": 2
}
